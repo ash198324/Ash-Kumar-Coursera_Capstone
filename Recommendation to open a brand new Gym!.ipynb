{
    "cells": [
        {
            "metadata": {
                "collapsed": true
            },
            "cell_type": "markdown",
            "source": "# **Capstone Project**\n\n## IBM Applied Data Science Capstone\n\n### *\"Opening a New Gym in the city of Hayward, California.\"*\n\n###### By: Ashneel Kumar\n###### February 2020\n    \n### **Intro:**\n    \nAs much as we'd like to believe that chocolate cake and ice cream are the elixir for a long and healthy life, we know that's not the case. We also know that a regular exercise routine is one of the surest paths to a longer and healthier life.\n\nThe Centers for Disease Control recommends that adults get at least 150 minutes of moderately intense aerobic exercise every week \u2013 but less than half of all Americans do so. And for the millions of people who would like to do better, this is often the time of year to consider joining a gym. We can all find lots of excuses for not getting our bodies in motion, but there's an equally compelling list of reasons why we should do so.\n\nWhether you want to lose weight, gain muscle, tone up or improve your overall health, you\u2019ll have to start somewhere and that\u2019s the No. 1 reason people of all fitness levels pony up the bucks and decide to join a conveniently located gym.\n    \n### **Business Problem:**\n    \nThe main focus of this project is to analyze and pick a prime location in the city of Hayward, California to open a brand new gym. Using data science methodology as the stepping stone with machine learning method and techniques like clustering to answer this business question:\n\n*Where would you recommend an investor/developer in the city of Hayward to open a brand new Gym?*\n",
            "attachments": {}
        }
    ],
    "metadata": {
        "kernelspec": {
            "name": "python3",
            "display_name": "Python 3.6",
            "language": "python"
        },
        "language_info": {
            "name": "python",
            "version": "3.6.9",
            "mimetype": "text/x-python",
            "codemirror_mode": {
                "name": "ipython",
                "version": 3
            },
            "pygments_lexer": "ipython3",
            "nbconvert_exporter": "python",
            "file_extension": ".py"
        }
    },
    "nbformat": 4,
    "nbformat_minor": 1
}