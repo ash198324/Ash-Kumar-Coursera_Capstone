{
    "cells": [
        {
            "metadata": {
                "collapsed": true
            },
            "cell_type": "markdown",
            "source": "# IBM Applied Data Science Capstone Project\n\n## Final Notebook\n\n#### *Opening a New Gym in the city of Hayward, California*\n\n    - Build a dataframe of neighborhoods in Hayward California\n    - Use Web Scraping to extract data from a specific Wikipedia page\n    - Get the geographical coordinates of the neighborhoods\n    - Using Foursquare API, get venue data for the neighborhoods\n    - Survey and cluster the neighborhoods\n    - Select the best cluster to open a brand new gym\n"
        },
        {
            "metadata": {},
            "cell_type": "markdown",
            "source": "### 1. **Import Libraries**"
        },
        {
            "metadata": {},
            "cell_type": "code",
            "source": "# library to handle data in a vectorized manner\nimport numpy as np \n\n# library for data analsysis\nimport pandas as pd \npd.set_option(\"display.max_columns\", None)\npd.set_option(\"display.max_rows\", None)\n\n# library to handle JSON files\nimport json\n\n# convert an address into latitude and longitude values\n!conda install -c conda-forge geopy --yes\nfrom geopy.geocoders import Nominatim \n\n!pip install geopy\n\n# library to handle requests\nimport requests\n\n# library to parse HTML and XML documents\nfrom bs4 import BeautifulSoup\n\n# tranform JSON file into a pandas dataframe\nfrom pandas.io.json import json_normalize\n\n# Matplotlib and associated plotting modules\nimport matplotlib.cm as cm\nimport matplotlib.colors as colors\n\n# import k-means from clustering stage\nfrom sklearn.cluster import KMeans\n\n# map rendering library\n!conda install -c conda-forge folium=0.5.0 --yes \nimport folium \n\nprint(\"Libraries Imported\")",
            "execution_count": 1,
            "outputs": [
                {
                    "output_type": "stream",
                    "text": "Solving environment: done\n\n# All requested packages already installed.\n\nRequirement already satisfied: geopy in /opt/conda/envs/Python36/lib/python3.6/site-packages (1.21.0)\nRequirement already satisfied: geographiclib<2,>=1.49 in /opt/conda/envs/Python36/lib/python3.6/site-packages (from geopy) (1.50)\nSolving environment: done\n\n# All requested packages already installed.\n\nLibraries Imported\n",
                    "name": "stdout"
                }
            ]
        },
        {
            "metadata": {},
            "cell_type": "markdown",
            "source": "### 2. **Use Web-Scraping to scrap data from a specified Wikipedia page into a DataFrame**"
        },
        {
            "metadata": {},
            "cell_type": "code",
            "source": "# send the GET request\ndata = requests.get(\"https://en.wikipedia.org/wiki/Category:Neighborhoods_in_Hayward,_California\").text",
            "execution_count": 2,
            "outputs": []
        },
        {
            "metadata": {},
            "cell_type": "code",
            "source": "# interpret/parse data from the wikipedia html page into a beautifulsoup object\nsoup = BeautifulSoup(data, 'html.parser')",
            "execution_count": 3,
            "outputs": []
        },
        {
            "metadata": {},
            "cell_type": "code",
            "source": "# create a list to store neighborhood data\nnhoodlist = []",
            "execution_count": 4,
            "outputs": []
        },
        {
            "metadata": {},
            "cell_type": "code",
            "source": "# append the data into the list\nfor row in soup.findAll(\"li\"):\n    nhoodlist.append(row.text)",
            "execution_count": 5,
            "outputs": []
        },
        {
            "metadata": {},
            "cell_type": "code",
            "source": "# create a new DataFrame from the list\nhwd_df = pd.DataFrame({\"Neighborhood\": nhoodlist})\n\nhwd_df=hwd_df.drop([5,6,7,8,9,10,11,12,13,14,15,16,17,18,19,20,21,22,23,24,25,26,27,28,29,30,31,32,33,34,35,36,37,38,39,40,41,42,43,44,45,46,47,48,49,50,51,52])\n\nhwd_df",
            "execution_count": 6,
            "outputs": [
                {
                    "output_type": "execute_result",
                    "execution_count": 6,
                    "data": {
                        "text/plain": "                Neighborhood\n0           Downtown Hayward\n1   Eden Landing, California\n2  Hayward Heath, California\n3     Mount Eden, California\n4   Schafer Park, California",
                        "text/html": "<div>\n<style scoped>\n    .dataframe tbody tr th:only-of-type {\n        vertical-align: middle;\n    }\n\n    .dataframe tbody tr th {\n        vertical-align: top;\n    }\n\n    .dataframe thead th {\n        text-align: right;\n    }\n</style>\n<table border=\"1\" class=\"dataframe\">\n  <thead>\n    <tr style=\"text-align: right;\">\n      <th></th>\n      <th>Neighborhood</th>\n    </tr>\n  </thead>\n  <tbody>\n    <tr>\n      <th>0</th>\n      <td>Downtown Hayward</td>\n    </tr>\n    <tr>\n      <th>1</th>\n      <td>Eden Landing, California</td>\n    </tr>\n    <tr>\n      <th>2</th>\n      <td>Hayward Heath, California</td>\n    </tr>\n    <tr>\n      <th>3</th>\n      <td>Mount Eden, California</td>\n    </tr>\n    <tr>\n      <th>4</th>\n      <td>Schafer Park, California</td>\n    </tr>\n  </tbody>\n</table>\n</div>"
                    },
                    "metadata": {}
                }
            ]
        },
        {
            "metadata": {},
            "cell_type": "code",
            "source": "hwd_df.shape",
            "execution_count": 7,
            "outputs": [
                {
                    "output_type": "execute_result",
                    "execution_count": 7,
                    "data": {
                        "text/plain": "(5, 1)"
                    },
                    "metadata": {}
                }
            ]
        },
        {
            "metadata": {},
            "cell_type": "markdown",
            "source": "### 3. **Get the geographical coordinates of the neighborhoods**"
        },
        {
            "metadata": {},
            "cell_type": "code",
            "source": "import types\nimport pandas as pd\nfrom botocore.client import Config\nimport ibm_boto3\n\ndef __iter__(self): return 0\n\n# @hidden_cell\n# The following code accesses a file in your IBM Cloud Object Storage. It includes your credentials.\n# You might want to remove those credentials before you share the notebook.\nclient_a643b0c77d134b02867209727df4d917 = ibm_boto3.client(service_name='s3',\n    ibm_api_key_id='YZa5DCjQ5W5KJhFhTmT8AWpNnxyiVqAVN_L_B2iJbaMF',\n    ibm_auth_endpoint=\"https://iam.ng.bluemix.net/oidc/token\",\n    config=Config(signature_version='oauth'),\n    endpoint_url='https://s3-api.us-geo.objectstorage.service.networklayer.com')\n\nbody = client_a643b0c77d134b02867209727df4d917.get_object(Bucket='recommendationtoopenagyminthecity-donotdelete-pr-qm4ehpty7hqqo8',Key='HaywardNew.csv')['Body']\n# add missing __iter__ method, so pandas accepts body as file-like object\nif not hasattr(body, \"__iter__\"): body.__iter__ = types.MethodType( __iter__, body )\n\n# If you are reading an Excel file into a pandas DataFrame, replace `read_csv` by `read_excel` in the next statement.\n\ndf_data_0 = pd.read_csv(body)\ndf_data_0.head()",
            "execution_count": 8,
            "outputs": [
                {
                    "output_type": "execute_result",
                    "execution_count": 8,
                    "data": {
                        "text/plain": "     Zip     City State   latitude   longitude\n0  94544  Hayward    CA  37.633732 -122.061010\n1  94557  Hayward    CA  37.680181 -121.921498\n2  94543  Hayward    CA  37.680181 -121.921498\n3  94542  Hayward    CA  37.657381 -122.050760\n4  94545  Hayward    CA  37.635582 -122.104180",
                        "text/html": "<div>\n<style scoped>\n    .dataframe tbody tr th:only-of-type {\n        vertical-align: middle;\n    }\n\n    .dataframe tbody tr th {\n        vertical-align: top;\n    }\n\n    .dataframe thead th {\n        text-align: right;\n    }\n</style>\n<table border=\"1\" class=\"dataframe\">\n  <thead>\n    <tr style=\"text-align: right;\">\n      <th></th>\n      <th>Zip</th>\n      <th>City</th>\n      <th>State</th>\n      <th>latitude</th>\n      <th>longitude</th>\n    </tr>\n  </thead>\n  <tbody>\n    <tr>\n      <th>0</th>\n      <td>94544</td>\n      <td>Hayward</td>\n      <td>CA</td>\n      <td>37.633732</td>\n      <td>-122.061010</td>\n    </tr>\n    <tr>\n      <th>1</th>\n      <td>94557</td>\n      <td>Hayward</td>\n      <td>CA</td>\n      <td>37.680181</td>\n      <td>-121.921498</td>\n    </tr>\n    <tr>\n      <th>2</th>\n      <td>94543</td>\n      <td>Hayward</td>\n      <td>CA</td>\n      <td>37.680181</td>\n      <td>-121.921498</td>\n    </tr>\n    <tr>\n      <th>3</th>\n      <td>94542</td>\n      <td>Hayward</td>\n      <td>CA</td>\n      <td>37.657381</td>\n      <td>-122.050760</td>\n    </tr>\n    <tr>\n      <th>4</th>\n      <td>94545</td>\n      <td>Hayward</td>\n      <td>CA</td>\n      <td>37.635582</td>\n      <td>-122.104180</td>\n    </tr>\n  </tbody>\n</table>\n</div>"
                    },
                    "metadata": {}
                }
            ]
        },
        {
            "metadata": {},
            "cell_type": "code",
            "source": "# create temporary dataframe to populate the coordinates into latitude and longitude\nhwd_coords = pd.DataFrame(df_data_0, columns=['latitude', 'longitude'])\nhwd_coords",
            "execution_count": 9,
            "outputs": [
                {
                    "output_type": "execute_result",
                    "execution_count": 9,
                    "data": {
                        "text/plain": "    latitude   longitude\n0  37.633732 -122.061010\n1  37.680181 -121.921498\n2  37.680181 -121.921498\n3  37.657381 -122.050760\n4  37.635582 -122.104180\n5  37.680181 -121.921498\n6  37.674431 -122.088830",
                        "text/html": "<div>\n<style scoped>\n    .dataframe tbody tr th:only-of-type {\n        vertical-align: middle;\n    }\n\n    .dataframe tbody tr th {\n        vertical-align: top;\n    }\n\n    .dataframe thead th {\n        text-align: right;\n    }\n</style>\n<table border=\"1\" class=\"dataframe\">\n  <thead>\n    <tr style=\"text-align: right;\">\n      <th></th>\n      <th>latitude</th>\n      <th>longitude</th>\n    </tr>\n  </thead>\n  <tbody>\n    <tr>\n      <th>0</th>\n      <td>37.633732</td>\n      <td>-122.061010</td>\n    </tr>\n    <tr>\n      <th>1</th>\n      <td>37.680181</td>\n      <td>-121.921498</td>\n    </tr>\n    <tr>\n      <th>2</th>\n      <td>37.680181</td>\n      <td>-121.921498</td>\n    </tr>\n    <tr>\n      <th>3</th>\n      <td>37.657381</td>\n      <td>-122.050760</td>\n    </tr>\n    <tr>\n      <th>4</th>\n      <td>37.635582</td>\n      <td>-122.104180</td>\n    </tr>\n    <tr>\n      <th>5</th>\n      <td>37.680181</td>\n      <td>-121.921498</td>\n    </tr>\n    <tr>\n      <th>6</th>\n      <td>37.674431</td>\n      <td>-122.088830</td>\n    </tr>\n  </tbody>\n</table>\n</div>"
                    },
                    "metadata": {}
                }
            ]
        },
        {
            "metadata": {},
            "cell_type": "code",
            "source": "# number of rowns and columns using shape\nhwd_coords.shape",
            "execution_count": 10,
            "outputs": [
                {
                    "output_type": "execute_result",
                    "execution_count": 10,
                    "data": {
                        "text/plain": "(7, 2)"
                    },
                    "metadata": {}
                }
            ]
        },
        {
            "metadata": {},
            "cell_type": "code",
            "source": "# number of dimensions\nhwd_coords.ndim",
            "execution_count": 11,
            "outputs": [
                {
                    "output_type": "execute_result",
                    "execution_count": 11,
                    "data": {
                        "text/plain": "2"
                    },
                    "metadata": {}
                }
            ]
        },
        {
            "metadata": {},
            "cell_type": "code",
            "source": "# merge the coordinates into the original dataframe\nhwd_df['latitude'] = hwd_coords['latitude']\nhwd_df['longitude'] = hwd_coords['longitude']\n\n# check the neighborhood and coordinates\nprint(hwd_df.shape)\nhwd_df",
            "execution_count": 12,
            "outputs": [
                {
                    "output_type": "stream",
                    "text": "(5, 3)\n",
                    "name": "stdout"
                },
                {
                    "output_type": "execute_result",
                    "execution_count": 12,
                    "data": {
                        "text/plain": "                Neighborhood   latitude   longitude\n0           Downtown Hayward  37.633732 -122.061010\n1   Eden Landing, California  37.680181 -121.921498\n2  Hayward Heath, California  37.680181 -121.921498\n3     Mount Eden, California  37.657381 -122.050760\n4   Schafer Park, California  37.635582 -122.104180",
                        "text/html": "<div>\n<style scoped>\n    .dataframe tbody tr th:only-of-type {\n        vertical-align: middle;\n    }\n\n    .dataframe tbody tr th {\n        vertical-align: top;\n    }\n\n    .dataframe thead th {\n        text-align: right;\n    }\n</style>\n<table border=\"1\" class=\"dataframe\">\n  <thead>\n    <tr style=\"text-align: right;\">\n      <th></th>\n      <th>Neighborhood</th>\n      <th>latitude</th>\n      <th>longitude</th>\n    </tr>\n  </thead>\n  <tbody>\n    <tr>\n      <th>0</th>\n      <td>Downtown Hayward</td>\n      <td>37.633732</td>\n      <td>-122.061010</td>\n    </tr>\n    <tr>\n      <th>1</th>\n      <td>Eden Landing, California</td>\n      <td>37.680181</td>\n      <td>-121.921498</td>\n    </tr>\n    <tr>\n      <th>2</th>\n      <td>Hayward Heath, California</td>\n      <td>37.680181</td>\n      <td>-121.921498</td>\n    </tr>\n    <tr>\n      <th>3</th>\n      <td>Mount Eden, California</td>\n      <td>37.657381</td>\n      <td>-122.050760</td>\n    </tr>\n    <tr>\n      <th>4</th>\n      <td>Schafer Park, California</td>\n      <td>37.635582</td>\n      <td>-122.104180</td>\n    </tr>\n  </tbody>\n</table>\n</div>"
                    },
                    "metadata": {}
                }
            ]
        },
        {
            "metadata": {},
            "cell_type": "code",
            "source": "# DataFrame saved as a CSV File\nhwd_df.to_csv(\"hwd_df.csv\", index=False)",
            "execution_count": 13,
            "outputs": []
        },
        {
            "metadata": {},
            "cell_type": "markdown",
            "source": "### 4. **Create the map of the neighborhoods in city of Hayward**"
        },
        {
            "metadata": {},
            "cell_type": "code",
            "source": "# Getting the georaphical coordinats of city of hayward\n\naddress = 'Hayward, California' \ngeolocator = Nominatim(user_agent=\"ca_explorer\") \nlocation = geolocator.geocode(address) \nlatitude = location.latitude \nlongitude = location.longitude \nprint('The geograpical coordinate of Hayward, California are {}, {}.'.format(latitude, longitude ))",
            "execution_count": 14,
            "outputs": [
                {
                    "output_type": "stream",
                    "text": "The geograpical coordinate of Hayward, California are 37.6688205, -122.0807964.\n",
                    "name": "stdout"
                }
            ]
        },
        {
            "metadata": {},
            "cell_type": "code",
            "source": "# create map of hayward using latitude and longitude values\nmap_hwd = folium.Map(location=[latitude, longitude], zoom_start=11)\n\n# add markers to map\nfor lat, lng, neighborhood in zip(hwd_df['latitude'], hwd_df['longitude'], hwd_df['Neighborhood']):\n    label = '{}'.format(neighborhood)\n    label = folium.Popup(label, parse_html=True)\n    folium.CircleMarker(\n        [lat, lng],\n        radius=5,\n        popup=label,\n        color='red',\n        fill=True,\n        fill_color='#3186cc',\n        fill_opacity=0.7).add_to(map_hwd)  \n    \nmap_hwd",
            "execution_count": 15,
            "outputs": [
                {
                    "output_type": "execute_result",
                    "execution_count": 15,
                    "data": {
                        "text/plain": "<folium.folium.Map at 0x7fa0f6fdb6a0>",
                        "text/html": "<div style=\"width:100%;\"><div style=\"position:relative;width:100%;height:0;padding-bottom:60%;\"><iframe src=\"about:blank\" style=\"position:absolute;width:100%;height:100%;left:0;top:0;border:none !important;\" data-html=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 onload=\"this.contentDocument.open();this.contentDocument.write(atob(this.getAttribute('data-html')));this.contentDocument.close();\" allowfullscreen webkitallowfullscreen mozallowfullscreen></iframe></div></div>"
                    },
                    "metadata": {}
                }
            ]
        },
        {
            "metadata": {},
            "cell_type": "code",
            "source": "# save the map as HTML file\nmap_hwd.save('map_hwd.html')",
            "execution_count": 16,
            "outputs": []
        },
        {
            "metadata": {},
            "cell_type": "markdown",
            "source": "### 5. **Utilize Foursquare API to analyze the neighborhoods**"
        },
        {
            "metadata": {},
            "cell_type": "code",
            "source": "# define Foursquare Credentials and Version\nCLIENT_ID = 'E2AETDOBLPEOVM4KUWVAZ3YBHQPXD1WMZDCGFLSC3AWF5FMD' # your Foursquare ID\nCLIENT_SECRET = 'WB0FV1L1GSI1ZHAKMXTZYDF3CICJ2QVMFIVJVAQVRWWBGHD2' # your Foursquare Secret\nVERSION = '20180605' # Foursquare API version\n\nprint('Your credentails:')\nprint('CLIENT_ID: ' + CLIENT_ID)\nprint('CLIENT_SECRET:' + CLIENT_SECRET)",
            "execution_count": 17,
            "outputs": [
                {
                    "output_type": "stream",
                    "text": "Your credentails:\nCLIENT_ID: E2AETDOBLPEOVM4KUWVAZ3YBHQPXD1WMZDCGFLSC3AWF5FMD\nCLIENT_SECRET:WB0FV1L1GSI1ZHAKMXTZYDF3CICJ2QVMFIVJVAQVRWWBGHD2\n",
                    "name": "stdout"
                }
            ]
        },
        {
            "metadata": {},
            "cell_type": "code",
            "source": "# Get top 100 venues that are within the radius of 9000 meters (5 miles)\n\nradius = 9000\nLIMIT = 100\n\nvenues = []\n\nfor lat, long, neighborhood in zip(hwd_df['latitude'], hwd_df['longitude'], hwd_df['Neighborhood']):\n    \n    # create the API request URL\n    url = \"https://api.foursquare.com/v2/venues/explore?client_id={}&client_secret={}&v={}&ll={},{}&radius={}&limit={}\".format(\n        CLIENT_ID,\n        CLIENT_SECRET,\n        VERSION,\n        lat,\n        long,\n        radius, \n        LIMIT)\n    \n    # make the GET request\n    results = requests.get(url).json()[\"response\"]['groups'][0]['items']\n    \n    # return only relevant information for each nearby venue\n    for venue in results:\n        venues.append((\n            neighborhood,\n            lat, \n            long, \n            venue['venue']['name'], \n            venue['venue']['location']['lat'], \n            venue['venue']['location']['lng'],  \n            venue['venue']['categories'][0]['name']))",
            "execution_count": 18,
            "outputs": []
        },
        {
            "metadata": {},
            "cell_type": "code",
            "source": "# convert the venues list into a new DataFrame\nhwdvenues_df = pd.DataFrame(venues)\n\n# define the column names\nhwdvenues_df.columns = ['Neighborhood', 'Latitude', 'Longitude', 'VenueName', 'VenueLatitude', 'VenueLongitude', 'VenueCategory']\n\nprint(hwdvenues_df.shape)\nhwdvenues_df.head()",
            "execution_count": 19,
            "outputs": [
                {
                    "output_type": "stream",
                    "text": "(500, 7)\n",
                    "name": "stdout"
                },
                {
                    "output_type": "execute_result",
                    "execution_count": 19,
                    "data": {
                        "text/plain": "       Neighborhood   Latitude  Longitude  \\\n0  Downtown Hayward  37.633732 -122.06101   \n1  Downtown Hayward  37.633732 -122.06101   \n2  Downtown Hayward  37.633732 -122.06101   \n3  Downtown Hayward  37.633732 -122.06101   \n4  Downtown Hayward  37.633732 -122.06101   \n\n                                VenueName  VenueLatitude  VenueLongitude  \\\n0                      Bob's Hoagy Steaks      37.629506     -122.048341   \n1                           Tacos Uruapan      37.622047     -122.056986   \n2                   Pupuseria Las Cabanas      37.627032     -122.043346   \n3             Bronco Billy's Pizza Palace      37.655525     -122.048817   \n4  Garin/Dry Creek Pioneer Regional Parks      37.628355     -122.029091   \n\n               VenueCategory  \n0             Sandwich Place  \n1         Mexican Restaurant  \n2  Latin American Restaurant  \n3                Pizza Place  \n4                       Park  ",
                        "text/html": "<div>\n<style scoped>\n    .dataframe tbody tr th:only-of-type {\n        vertical-align: middle;\n    }\n\n    .dataframe tbody tr th {\n        vertical-align: top;\n    }\n\n    .dataframe thead th {\n        text-align: right;\n    }\n</style>\n<table border=\"1\" class=\"dataframe\">\n  <thead>\n    <tr style=\"text-align: right;\">\n      <th></th>\n      <th>Neighborhood</th>\n      <th>Latitude</th>\n      <th>Longitude</th>\n      <th>VenueName</th>\n      <th>VenueLatitude</th>\n      <th>VenueLongitude</th>\n      <th>VenueCategory</th>\n    </tr>\n  </thead>\n  <tbody>\n    <tr>\n      <th>0</th>\n      <td>Downtown Hayward</td>\n      <td>37.633732</td>\n      <td>-122.06101</td>\n      <td>Bob's Hoagy Steaks</td>\n      <td>37.629506</td>\n      <td>-122.048341</td>\n      <td>Sandwich Place</td>\n    </tr>\n    <tr>\n      <th>1</th>\n      <td>Downtown Hayward</td>\n      <td>37.633732</td>\n      <td>-122.06101</td>\n      <td>Tacos Uruapan</td>\n      <td>37.622047</td>\n      <td>-122.056986</td>\n      <td>Mexican Restaurant</td>\n    </tr>\n    <tr>\n      <th>2</th>\n      <td>Downtown Hayward</td>\n      <td>37.633732</td>\n      <td>-122.06101</td>\n      <td>Pupuseria Las Cabanas</td>\n      <td>37.627032</td>\n      <td>-122.043346</td>\n      <td>Latin American Restaurant</td>\n    </tr>\n    <tr>\n      <th>3</th>\n      <td>Downtown Hayward</td>\n      <td>37.633732</td>\n      <td>-122.06101</td>\n      <td>Bronco Billy's Pizza Palace</td>\n      <td>37.655525</td>\n      <td>-122.048817</td>\n      <td>Pizza Place</td>\n    </tr>\n    <tr>\n      <th>4</th>\n      <td>Downtown Hayward</td>\n      <td>37.633732</td>\n      <td>-122.06101</td>\n      <td>Garin/Dry Creek Pioneer Regional Parks</td>\n      <td>37.628355</td>\n      <td>-122.029091</td>\n      <td>Park</td>\n    </tr>\n  </tbody>\n</table>\n</div>"
                    },
                    "metadata": {}
                }
            ]
        },
        {
            "metadata": {},
            "cell_type": "code",
            "source": "# Check how many neighborhoods has how many venues\n\nhwdvenues_df.groupby([\"Neighborhood\"]).count()",
            "execution_count": 20,
            "outputs": [
                {
                    "output_type": "execute_result",
                    "execution_count": 20,
                    "data": {
                        "text/plain": "                           Latitude  Longitude  VenueName  VenueLatitude  \\\nNeighborhood                                                               \nDowntown Hayward                100        100        100            100   \nEden Landing, California        100        100        100            100   \nHayward Heath, California       100        100        100            100   \nMount Eden, California          100        100        100            100   \nSchafer Park, California        100        100        100            100   \n\n                           VenueLongitude  VenueCategory  \nNeighborhood                                              \nDowntown Hayward                      100            100  \nEden Landing, California              100            100  \nHayward Heath, California             100            100  \nMount Eden, California                100            100  \nSchafer Park, California              100            100  ",
                        "text/html": "<div>\n<style scoped>\n    .dataframe tbody tr th:only-of-type {\n        vertical-align: middle;\n    }\n\n    .dataframe tbody tr th {\n        vertical-align: top;\n    }\n\n    .dataframe thead th {\n        text-align: right;\n    }\n</style>\n<table border=\"1\" class=\"dataframe\">\n  <thead>\n    <tr style=\"text-align: right;\">\n      <th></th>\n      <th>Latitude</th>\n      <th>Longitude</th>\n      <th>VenueName</th>\n      <th>VenueLatitude</th>\n      <th>VenueLongitude</th>\n      <th>VenueCategory</th>\n    </tr>\n    <tr>\n      <th>Neighborhood</th>\n      <th></th>\n      <th></th>\n      <th></th>\n      <th></th>\n      <th></th>\n      <th></th>\n    </tr>\n  </thead>\n  <tbody>\n    <tr>\n      <th>Downtown Hayward</th>\n      <td>100</td>\n      <td>100</td>\n      <td>100</td>\n      <td>100</td>\n      <td>100</td>\n      <td>100</td>\n    </tr>\n    <tr>\n      <th>Eden Landing, California</th>\n      <td>100</td>\n      <td>100</td>\n      <td>100</td>\n      <td>100</td>\n      <td>100</td>\n      <td>100</td>\n    </tr>\n    <tr>\n      <th>Hayward Heath, California</th>\n      <td>100</td>\n      <td>100</td>\n      <td>100</td>\n      <td>100</td>\n      <td>100</td>\n      <td>100</td>\n    </tr>\n    <tr>\n      <th>Mount Eden, California</th>\n      <td>100</td>\n      <td>100</td>\n      <td>100</td>\n      <td>100</td>\n      <td>100</td>\n      <td>100</td>\n    </tr>\n    <tr>\n      <th>Schafer Park, California</th>\n      <td>100</td>\n      <td>100</td>\n      <td>100</td>\n      <td>100</td>\n      <td>100</td>\n      <td>100</td>\n    </tr>\n  </tbody>\n</table>\n</div>"
                    },
                    "metadata": {}
                }
            ]
        },
        {
            "metadata": {},
            "cell_type": "code",
            "source": "# check how mnay unique categories\nprint('There are {} uniques categories.'.format(len(hwdvenues_df['VenueCategory'].unique())))",
            "execution_count": 21,
            "outputs": [
                {
                    "output_type": "stream",
                    "text": "There are 102 uniques categories.\n",
                    "name": "stdout"
                }
            ]
        },
        {
            "metadata": {},
            "cell_type": "code",
            "source": "# lets pring the list of categories\nhwdvenues_df['VenueCategory'].unique()",
            "execution_count": 22,
            "outputs": [
                {
                    "output_type": "execute_result",
                    "execution_count": 22,
                    "data": {
                        "text/plain": "array(['Sandwich Place', 'Mexican Restaurant',\n       'Latin American Restaurant', 'Pizza Place', 'Park', 'Caf\u00e9',\n       'Grocery Store', 'Warehouse Store', 'Vietnamese Restaurant',\n       'Burger Joint', 'Steakhouse', 'Fast Food Restaurant', 'Food Court',\n       'General Entertainment', 'Coffee Shop', 'Pool', 'Smoke Shop',\n       'Chinese Restaurant', 'Supermarket', 'Pharmacy', 'Lingerie Store',\n       'Breakfast Spot', 'Bar', 'Farmers Market', 'Asian Restaurant',\n       'Yoga Studio', \"Doctor's Office\", 'Bakery', 'Japanese Restaurant',\n       'Hunan Restaurant', 'Diner', 'Motorsports Shop', 'BBQ Joint',\n       'Hot Dog Joint', 'Movie Theater', 'Golf Course', 'Gym',\n       'Frozen Yogurt Shop', 'Thai Restaurant', 'Gym / Fitness Center',\n       'Juice Bar', 'American Restaurant', 'Dessert Shop',\n       'Deli / Bodega', 'Ramen Restaurant', 'Health & Beauty Service',\n       'Ice Cream Shop', 'Sushi Restaurant', 'Indian Restaurant',\n       'Dumpling Restaurant', 'Donut Shop', 'Italian Restaurant',\n       'Afghan Restaurant', 'Pet Store', 'Arts & Crafts Store',\n       'Toy / Game Store', 'Liquor Store', 'Furniture / Home Store',\n       'Hotel', 'Sporting Goods Shop', 'Resort', 'Cosmetics Shop',\n       'Department Store', 'Pub', 'Cupcake Shop', 'Food Truck',\n       'Discount Store', 'Comic Shop', 'Smoothie Shop',\n       'Martial Arts Dojo', 'Comedy Club', 'Convenience Store',\n       'Beer Garden', 'Trail', 'Fair', 'Beer Store', 'Gymnastics Gym',\n       'Paper / Office Supplies Store', 'Falafel Restaurant', 'Wine Shop',\n       'Fabric Shop', 'Vegetarian / Vegan Restaurant',\n       'Burmese Restaurant', 'Shopping Mall', 'Spa', 'Gun Shop',\n       'Auto Dealership', 'Middle Eastern Restaurant',\n       'New American Restaurant', 'Athletics & Sports',\n       'Mediterranean Restaurant', 'Market', 'Garden', 'Bubble Tea Shop',\n       'Gastropub', 'Filipino Restaurant', 'Theater', 'City Hall',\n       'Playground', 'Bank', 'Airport', 'Hawaiian Restaurant'],\n      dtype=object)"
                    },
                    "metadata": {}
                }
            ]
        },
        {
            "metadata": {},
            "cell_type": "code",
            "source": "# check if the results contain \"Gyms\"\n\"Gym\" in hwdvenues_df['VenueCategory'].unique()",
            "execution_count": 23,
            "outputs": [
                {
                    "output_type": "execute_result",
                    "execution_count": 23,
                    "data": {
                        "text/plain": "True"
                    },
                    "metadata": {}
                }
            ]
        },
        {
            "metadata": {},
            "cell_type": "markdown",
            "source": "### 6. **Explorer each neighborhoods**"
        },
        {
            "metadata": {},
            "cell_type": "code",
            "source": "# one hot encoding\nhwd_onehot = pd.get_dummies(hwdvenues_df[['VenueCategory']], prefix=\"\", prefix_sep=\"\")\n\n# add neighborhood column back to dataframe\nhwd_onehot['Neighborhoods'] = hwdvenues_df['Neighborhood'] \n\n# move neighborhood column to the first column\nfixed_columns = [hwd_onehot.columns[-1]] + list(hwd_onehot.columns[:-1])\nhwd_onehot = hwd_onehot[fixed_columns]\n\nprint(hwd_onehot.shape)\nhwd_onehot.head()",
            "execution_count": 24,
            "outputs": [
                {
                    "output_type": "stream",
                    "text": "(500, 103)\n",
                    "name": "stdout"
                },
                {
                    "output_type": "execute_result",
                    "execution_count": 24,
                    "data": {
                        "text/plain": "      Neighborhoods  Afghan Restaurant  Airport  American Restaurant  \\\n0  Downtown Hayward                  0        0                    0   \n1  Downtown Hayward                  0        0                    0   \n2  Downtown Hayward                  0        0                    0   \n3  Downtown Hayward                  0        0                    0   \n4  Downtown Hayward                  0        0                    0   \n\n   Arts & Crafts Store  Asian Restaurant  Athletics & Sports  Auto Dealership  \\\n0                    0                 0                   0                0   \n1                    0                 0                   0                0   \n2                    0                 0                   0                0   \n3                    0                 0                   0                0   \n4                    0                 0                   0                0   \n\n   BBQ Joint  Bakery  Bank  Bar  Beer Garden  Beer Store  Breakfast Spot  \\\n0          0       0     0    0            0           0               0   \n1          0       0     0    0            0           0               0   \n2          0       0     0    0            0           0               0   \n3          0       0     0    0            0           0               0   \n4          0       0     0    0            0           0               0   \n\n   Bubble Tea Shop  Burger Joint  Burmese Restaurant  Caf\u00e9  \\\n0                0             0                   0     0   \n1                0             0                   0     0   \n2                0             0                   0     0   \n3                0             0                   0     0   \n4                0             0                   0     0   \n\n   Chinese Restaurant  City Hall  Coffee Shop  Comedy Club  Comic Shop  \\\n0                   0          0            0            0           0   \n1                   0          0            0            0           0   \n2                   0          0            0            0           0   \n3                   0          0            0            0           0   \n4                   0          0            0            0           0   \n\n   Convenience Store  Cosmetics Shop  Cupcake Shop  Deli / Bodega  \\\n0                  0               0             0              0   \n1                  0               0             0              0   \n2                  0               0             0              0   \n3                  0               0             0              0   \n4                  0               0             0              0   \n\n   Department Store  Dessert Shop  Diner  Discount Store  Doctor's Office  \\\n0                 0             0      0               0                0   \n1                 0             0      0               0                0   \n2                 0             0      0               0                0   \n3                 0             0      0               0                0   \n4                 0             0      0               0                0   \n\n   Donut Shop  Dumpling Restaurant  Fabric Shop  Fair  Falafel Restaurant  \\\n0           0                    0            0     0                   0   \n1           0                    0            0     0                   0   \n2           0                    0            0     0                   0   \n3           0                    0            0     0                   0   \n4           0                    0            0     0                   0   \n\n   Farmers Market  Fast Food Restaurant  Filipino Restaurant  Food Court  \\\n0               0                     0                    0           0   \n1               0                     0                    0           0   \n2               0                     0                    0           0   \n3               0                     0                    0           0   \n4               0                     0                    0           0   \n\n   Food Truck  Frozen Yogurt Shop  Furniture / Home Store  Garden  Gastropub  \\\n0           0                   0                       0       0          0   \n1           0                   0                       0       0          0   \n2           0                   0                       0       0          0   \n3           0                   0                       0       0          0   \n4           0                   0                       0       0          0   \n\n   General Entertainment  Golf Course  Grocery Store  Gun Shop  Gym  \\\n0                      0            0              0         0    0   \n1                      0            0              0         0    0   \n2                      0            0              0         0    0   \n3                      0            0              0         0    0   \n4                      0            0              0         0    0   \n\n   Gym / Fitness Center  Gymnastics Gym  Hawaiian Restaurant  \\\n0                     0               0                    0   \n1                     0               0                    0   \n2                     0               0                    0   \n3                     0               0                    0   \n4                     0               0                    0   \n\n   Health & Beauty Service  Hot Dog Joint  Hotel  Hunan Restaurant  \\\n0                        0              0      0                 0   \n1                        0              0      0                 0   \n2                        0              0      0                 0   \n3                        0              0      0                 0   \n4                        0              0      0                 0   \n\n   Ice Cream Shop  Indian Restaurant  Italian Restaurant  Japanese Restaurant  \\\n0               0                  0                   0                    0   \n1               0                  0                   0                    0   \n2               0                  0                   0                    0   \n3               0                  0                   0                    0   \n4               0                  0                   0                    0   \n\n   Juice Bar  Latin American Restaurant  Lingerie Store  Liquor Store  Market  \\\n0          0                          0               0             0       0   \n1          0                          0               0             0       0   \n2          0                          1               0             0       0   \n3          0                          0               0             0       0   \n4          0                          0               0             0       0   \n\n   Martial Arts Dojo  Mediterranean Restaurant  Mexican Restaurant  \\\n0                  0                         0                   0   \n1                  0                         0                   1   \n2                  0                         0                   0   \n3                  0                         0                   0   \n4                  0                         0                   0   \n\n   Middle Eastern Restaurant  Motorsports Shop  Movie Theater  \\\n0                          0                 0              0   \n1                          0                 0              0   \n2                          0                 0              0   \n3                          0                 0              0   \n4                          0                 0              0   \n\n   New American Restaurant  Paper / Office Supplies Store  Park  Pet Store  \\\n0                        0                              0     0          0   \n1                        0                              0     0          0   \n2                        0                              0     0          0   \n3                        0                              0     0          0   \n4                        0                              0     1          0   \n\n   Pharmacy  Pizza Place  Playground  Pool  Pub  Ramen Restaurant  Resort  \\\n0         0            0           0     0    0                 0       0   \n1         0            0           0     0    0                 0       0   \n2         0            0           0     0    0                 0       0   \n3         0            1           0     0    0                 0       0   \n4         0            0           0     0    0                 0       0   \n\n   Sandwich Place  Shopping Mall  Smoke Shop  Smoothie Shop  Spa  \\\n0               1              0           0              0    0   \n1               0              0           0              0    0   \n2               0              0           0              0    0   \n3               0              0           0              0    0   \n4               0              0           0              0    0   \n\n   Sporting Goods Shop  Steakhouse  Supermarket  Sushi Restaurant  \\\n0                    0           0            0                 0   \n1                    0           0            0                 0   \n2                    0           0            0                 0   \n3                    0           0            0                 0   \n4                    0           0            0                 0   \n\n   Thai Restaurant  Theater  Toy / Game Store  Trail  \\\n0                0        0                 0      0   \n1                0        0                 0      0   \n2                0        0                 0      0   \n3                0        0                 0      0   \n4                0        0                 0      0   \n\n   Vegetarian / Vegan Restaurant  Vietnamese Restaurant  Warehouse Store  \\\n0                              0                      0                0   \n1                              0                      0                0   \n2                              0                      0                0   \n3                              0                      0                0   \n4                              0                      0                0   \n\n   Wine Shop  Yoga Studio  \n0          0            0  \n1          0            0  \n2          0            0  \n3          0            0  \n4          0            0  ",
                        "text/html": "<div>\n<style scoped>\n    .dataframe tbody tr th:only-of-type {\n        vertical-align: middle;\n    }\n\n    .dataframe tbody tr th {\n        vertical-align: top;\n    }\n\n    .dataframe thead th {\n        text-align: right;\n    }\n</style>\n<table border=\"1\" class=\"dataframe\">\n  <thead>\n    <tr style=\"text-align: right;\">\n      <th></th>\n      <th>Neighborhoods</th>\n      <th>Afghan Restaurant</th>\n      <th>Airport</th>\n      <th>American Restaurant</th>\n      <th>Arts &amp; Crafts Store</th>\n      <th>Asian Restaurant</th>\n      <th>Athletics &amp; Sports</th>\n      <th>Auto Dealership</th>\n      <th>BBQ Joint</th>\n      <th>Bakery</th>\n      <th>Bank</th>\n      <th>Bar</th>\n      <th>Beer Garden</th>\n      <th>Beer Store</th>\n      <th>Breakfast Spot</th>\n      <th>Bubble Tea Shop</th>\n      <th>Burger Joint</th>\n      <th>Burmese Restaurant</th>\n      <th>Caf\u00e9</th>\n      <th>Chinese Restaurant</th>\n      <th>City Hall</th>\n      <th>Coffee Shop</th>\n      <th>Comedy Club</th>\n      <th>Comic Shop</th>\n      <th>Convenience Store</th>\n      <th>Cosmetics Shop</th>\n      <th>Cupcake Shop</th>\n      <th>Deli / Bodega</th>\n      <th>Department Store</th>\n      <th>Dessert Shop</th>\n      <th>Diner</th>\n      <th>Discount Store</th>\n      <th>Doctor's Office</th>\n      <th>Donut Shop</th>\n      <th>Dumpling Restaurant</th>\n      <th>Fabric Shop</th>\n      <th>Fair</th>\n      <th>Falafel Restaurant</th>\n      <th>Farmers Market</th>\n      <th>Fast Food Restaurant</th>\n      <th>Filipino Restaurant</th>\n      <th>Food Court</th>\n      <th>Food Truck</th>\n      <th>Frozen Yogurt Shop</th>\n      <th>Furniture / Home Store</th>\n      <th>Garden</th>\n      <th>Gastropub</th>\n      <th>General Entertainment</th>\n      <th>Golf Course</th>\n      <th>Grocery Store</th>\n      <th>Gun Shop</th>\n      <th>Gym</th>\n      <th>Gym / Fitness Center</th>\n      <th>Gymnastics Gym</th>\n      <th>Hawaiian Restaurant</th>\n      <th>Health &amp; Beauty Service</th>\n      <th>Hot Dog Joint</th>\n      <th>Hotel</th>\n      <th>Hunan Restaurant</th>\n      <th>Ice Cream Shop</th>\n      <th>Indian Restaurant</th>\n      <th>Italian Restaurant</th>\n      <th>Japanese Restaurant</th>\n      <th>Juice Bar</th>\n      <th>Latin American Restaurant</th>\n      <th>Lingerie Store</th>\n      <th>Liquor Store</th>\n      <th>Market</th>\n      <th>Martial Arts Dojo</th>\n      <th>Mediterranean Restaurant</th>\n      <th>Mexican Restaurant</th>\n      <th>Middle Eastern Restaurant</th>\n      <th>Motorsports Shop</th>\n      <th>Movie Theater</th>\n      <th>New American Restaurant</th>\n      <th>Paper / Office Supplies Store</th>\n      <th>Park</th>\n      <th>Pet Store</th>\n      <th>Pharmacy</th>\n      <th>Pizza Place</th>\n      <th>Playground</th>\n      <th>Pool</th>\n      <th>Pub</th>\n      <th>Ramen Restaurant</th>\n      <th>Resort</th>\n      <th>Sandwich Place</th>\n      <th>Shopping Mall</th>\n      <th>Smoke Shop</th>\n      <th>Smoothie Shop</th>\n      <th>Spa</th>\n      <th>Sporting Goods Shop</th>\n      <th>Steakhouse</th>\n      <th>Supermarket</th>\n      <th>Sushi Restaurant</th>\n      <th>Thai Restaurant</th>\n      <th>Theater</th>\n      <th>Toy / Game Store</th>\n      <th>Trail</th>\n      <th>Vegetarian / Vegan Restaurant</th>\n      <th>Vietnamese Restaurant</th>\n      <th>Warehouse Store</th>\n      <th>Wine Shop</th>\n      <th>Yoga Studio</th>\n    </tr>\n  </thead>\n  <tbody>\n    <tr>\n      <th>0</th>\n      <td>Downtown Hayward</td>\n      <td>0</td>\n      <td>0</td>\n      <td>0</td>\n      <td>0</td>\n      <td>0</td>\n      <td>0</td>\n      <td>0</td>\n      <td>0</td>\n      <td>0</td>\n      <td>0</td>\n      <td>0</td>\n      <td>0</td>\n      <td>0</td>\n      <td>0</td>\n      <td>0</td>\n      <td>0</td>\n      <td>0</td>\n      <td>0</td>\n      <td>0</td>\n      <td>0</td>\n      <td>0</td>\n      <td>0</td>\n      <td>0</td>\n      <td>0</td>\n      <td>0</td>\n      <td>0</td>\n      <td>0</td>\n      <td>0</td>\n      <td>0</td>\n      <td>0</td>\n      <td>0</td>\n      <td>0</td>\n      <td>0</td>\n      <td>0</td>\n      <td>0</td>\n      <td>0</td>\n      <td>0</td>\n      <td>0</td>\n      <td>0</td>\n      <td>0</td>\n      <td>0</td>\n      <td>0</td>\n      <td>0</td>\n      <td>0</td>\n      <td>0</td>\n      <td>0</td>\n      <td>0</td>\n      <td>0</td>\n      <td>0</td>\n      <td>0</td>\n      <td>0</td>\n      <td>0</td>\n      <td>0</td>\n      <td>0</td>\n      <td>0</td>\n      <td>0</td>\n      <td>0</td>\n      <td>0</td>\n      <td>0</td>\n      <td>0</td>\n      <td>0</td>\n      <td>0</td>\n      <td>0</td>\n      <td>0</td>\n      <td>0</td>\n      <td>0</td>\n      <td>0</td>\n      <td>0</td>\n      <td>0</td>\n      <td>0</td>\n      <td>0</td>\n      <td>0</td>\n      <td>0</td>\n      <td>0</td>\n      <td>0</td>\n      <td>0</td>\n      <td>0</td>\n      <td>0</td>\n      <td>0</td>\n      <td>0</td>\n      <td>0</td>\n      <td>0</td>\n      <td>0</td>\n      <td>0</td>\n      <td>1</td>\n      <td>0</td>\n      <td>0</td>\n      <td>0</td>\n      <td>0</td>\n      <td>0</td>\n      <td>0</td>\n      <td>0</td>\n      <td>0</td>\n      <td>0</td>\n      <td>0</td>\n      <td>0</td>\n      <td>0</td>\n      <td>0</td>\n      <td>0</td>\n      <td>0</td>\n      <td>0</td>\n      <td>0</td>\n    </tr>\n    <tr>\n      <th>1</th>\n      <td>Downtown Hayward</td>\n      <td>0</td>\n      <td>0</td>\n      <td>0</td>\n      <td>0</td>\n      <td>0</td>\n      <td>0</td>\n      <td>0</td>\n      <td>0</td>\n      <td>0</td>\n      <td>0</td>\n      <td>0</td>\n      <td>0</td>\n      <td>0</td>\n      <td>0</td>\n      <td>0</td>\n      <td>0</td>\n      <td>0</td>\n      <td>0</td>\n      <td>0</td>\n      <td>0</td>\n      <td>0</td>\n      <td>0</td>\n      <td>0</td>\n      <td>0</td>\n      <td>0</td>\n      <td>0</td>\n      <td>0</td>\n      <td>0</td>\n      <td>0</td>\n      <td>0</td>\n      <td>0</td>\n      <td>0</td>\n      <td>0</td>\n      <td>0</td>\n      <td>0</td>\n      <td>0</td>\n      <td>0</td>\n      <td>0</td>\n      <td>0</td>\n      <td>0</td>\n      <td>0</td>\n      <td>0</td>\n      <td>0</td>\n      <td>0</td>\n      <td>0</td>\n      <td>0</td>\n      <td>0</td>\n      <td>0</td>\n      <td>0</td>\n      <td>0</td>\n      <td>0</td>\n      <td>0</td>\n      <td>0</td>\n      <td>0</td>\n      <td>0</td>\n      <td>0</td>\n      <td>0</td>\n      <td>0</td>\n      <td>0</td>\n      <td>0</td>\n      <td>0</td>\n      <td>0</td>\n      <td>0</td>\n      <td>0</td>\n      <td>0</td>\n      <td>0</td>\n      <td>0</td>\n      <td>0</td>\n      <td>0</td>\n      <td>1</td>\n      <td>0</td>\n      <td>0</td>\n      <td>0</td>\n      <td>0</td>\n      <td>0</td>\n      <td>0</td>\n      <td>0</td>\n      <td>0</td>\n      <td>0</td>\n      <td>0</td>\n      <td>0</td>\n      <td>0</td>\n      <td>0</td>\n      <td>0</td>\n      <td>0</td>\n      <td>0</td>\n      <td>0</td>\n      <td>0</td>\n      <td>0</td>\n      <td>0</td>\n      <td>0</td>\n      <td>0</td>\n      <td>0</td>\n      <td>0</td>\n      <td>0</td>\n      <td>0</td>\n      <td>0</td>\n      <td>0</td>\n      <td>0</td>\n      <td>0</td>\n      <td>0</td>\n      <td>0</td>\n    </tr>\n    <tr>\n      <th>2</th>\n      <td>Downtown Hayward</td>\n      <td>0</td>\n      <td>0</td>\n      <td>0</td>\n      <td>0</td>\n      <td>0</td>\n      <td>0</td>\n      <td>0</td>\n      <td>0</td>\n      <td>0</td>\n      <td>0</td>\n      <td>0</td>\n      <td>0</td>\n      <td>0</td>\n      <td>0</td>\n      <td>0</td>\n      <td>0</td>\n      <td>0</td>\n      <td>0</td>\n      <td>0</td>\n      <td>0</td>\n      <td>0</td>\n      <td>0</td>\n      <td>0</td>\n      <td>0</td>\n      <td>0</td>\n      <td>0</td>\n      <td>0</td>\n      <td>0</td>\n      <td>0</td>\n      <td>0</td>\n      <td>0</td>\n      <td>0</td>\n      <td>0</td>\n      <td>0</td>\n      <td>0</td>\n      <td>0</td>\n      <td>0</td>\n      <td>0</td>\n      <td>0</td>\n      <td>0</td>\n      <td>0</td>\n      <td>0</td>\n      <td>0</td>\n      <td>0</td>\n      <td>0</td>\n      <td>0</td>\n      <td>0</td>\n      <td>0</td>\n      <td>0</td>\n      <td>0</td>\n      <td>0</td>\n      <td>0</td>\n      <td>0</td>\n      <td>0</td>\n      <td>0</td>\n      <td>0</td>\n      <td>0</td>\n      <td>0</td>\n      <td>0</td>\n      <td>0</td>\n      <td>0</td>\n      <td>0</td>\n      <td>0</td>\n      <td>1</td>\n      <td>0</td>\n      <td>0</td>\n      <td>0</td>\n      <td>0</td>\n      <td>0</td>\n      <td>0</td>\n      <td>0</td>\n      <td>0</td>\n      <td>0</td>\n      <td>0</td>\n      <td>0</td>\n      <td>0</td>\n      <td>0</td>\n      <td>0</td>\n      <td>0</td>\n      <td>0</td>\n      <td>0</td>\n      <td>0</td>\n      <td>0</td>\n      <td>0</td>\n      <td>0</td>\n      <td>0</td>\n      <td>0</td>\n      <td>0</td>\n      <td>0</td>\n      <td>0</td>\n      <td>0</td>\n      <td>0</td>\n      <td>0</td>\n      <td>0</td>\n      <td>0</td>\n      <td>0</td>\n      <td>0</td>\n      <td>0</td>\n      <td>0</td>\n      <td>0</td>\n      <td>0</td>\n      <td>0</td>\n    </tr>\n    <tr>\n      <th>3</th>\n      <td>Downtown Hayward</td>\n      <td>0</td>\n      <td>0</td>\n      <td>0</td>\n      <td>0</td>\n      <td>0</td>\n      <td>0</td>\n      <td>0</td>\n      <td>0</td>\n      <td>0</td>\n      <td>0</td>\n      <td>0</td>\n      <td>0</td>\n      <td>0</td>\n      <td>0</td>\n      <td>0</td>\n      <td>0</td>\n      <td>0</td>\n      <td>0</td>\n      <td>0</td>\n      <td>0</td>\n      <td>0</td>\n      <td>0</td>\n      <td>0</td>\n      <td>0</td>\n      <td>0</td>\n      <td>0</td>\n      <td>0</td>\n      <td>0</td>\n      <td>0</td>\n      <td>0</td>\n      <td>0</td>\n      <td>0</td>\n      <td>0</td>\n      <td>0</td>\n      <td>0</td>\n      <td>0</td>\n      <td>0</td>\n      <td>0</td>\n      <td>0</td>\n      <td>0</td>\n      <td>0</td>\n      <td>0</td>\n      <td>0</td>\n      <td>0</td>\n      <td>0</td>\n      <td>0</td>\n      <td>0</td>\n      <td>0</td>\n      <td>0</td>\n      <td>0</td>\n      <td>0</td>\n      <td>0</td>\n      <td>0</td>\n      <td>0</td>\n      <td>0</td>\n      <td>0</td>\n      <td>0</td>\n      <td>0</td>\n      <td>0</td>\n      <td>0</td>\n      <td>0</td>\n      <td>0</td>\n      <td>0</td>\n      <td>0</td>\n      <td>0</td>\n      <td>0</td>\n      <td>0</td>\n      <td>0</td>\n      <td>0</td>\n      <td>0</td>\n      <td>0</td>\n      <td>0</td>\n      <td>0</td>\n      <td>0</td>\n      <td>0</td>\n      <td>0</td>\n      <td>0</td>\n      <td>0</td>\n      <td>1</td>\n      <td>0</td>\n      <td>0</td>\n      <td>0</td>\n      <td>0</td>\n      <td>0</td>\n      <td>0</td>\n      <td>0</td>\n      <td>0</td>\n      <td>0</td>\n      <td>0</td>\n      <td>0</td>\n      <td>0</td>\n      <td>0</td>\n      <td>0</td>\n      <td>0</td>\n      <td>0</td>\n      <td>0</td>\n      <td>0</td>\n      <td>0</td>\n      <td>0</td>\n      <td>0</td>\n      <td>0</td>\n      <td>0</td>\n    </tr>\n    <tr>\n      <th>4</th>\n      <td>Downtown Hayward</td>\n      <td>0</td>\n      <td>0</td>\n      <td>0</td>\n      <td>0</td>\n      <td>0</td>\n      <td>0</td>\n      <td>0</td>\n      <td>0</td>\n      <td>0</td>\n      <td>0</td>\n      <td>0</td>\n      <td>0</td>\n      <td>0</td>\n      <td>0</td>\n      <td>0</td>\n      <td>0</td>\n      <td>0</td>\n      <td>0</td>\n      <td>0</td>\n      <td>0</td>\n      <td>0</td>\n      <td>0</td>\n      <td>0</td>\n      <td>0</td>\n      <td>0</td>\n      <td>0</td>\n      <td>0</td>\n      <td>0</td>\n      <td>0</td>\n      <td>0</td>\n      <td>0</td>\n      <td>0</td>\n      <td>0</td>\n      <td>0</td>\n      <td>0</td>\n      <td>0</td>\n      <td>0</td>\n      <td>0</td>\n      <td>0</td>\n      <td>0</td>\n      <td>0</td>\n      <td>0</td>\n      <td>0</td>\n      <td>0</td>\n      <td>0</td>\n      <td>0</td>\n      <td>0</td>\n      <td>0</td>\n      <td>0</td>\n      <td>0</td>\n      <td>0</td>\n      <td>0</td>\n      <td>0</td>\n      <td>0</td>\n      <td>0</td>\n      <td>0</td>\n      <td>0</td>\n      <td>0</td>\n      <td>0</td>\n      <td>0</td>\n      <td>0</td>\n      <td>0</td>\n      <td>0</td>\n      <td>0</td>\n      <td>0</td>\n      <td>0</td>\n      <td>0</td>\n      <td>0</td>\n      <td>0</td>\n      <td>0</td>\n      <td>0</td>\n      <td>0</td>\n      <td>0</td>\n      <td>0</td>\n      <td>0</td>\n      <td>1</td>\n      <td>0</td>\n      <td>0</td>\n      <td>0</td>\n      <td>0</td>\n      <td>0</td>\n      <td>0</td>\n      <td>0</td>\n      <td>0</td>\n      <td>0</td>\n      <td>0</td>\n      <td>0</td>\n      <td>0</td>\n      <td>0</td>\n      <td>0</td>\n      <td>0</td>\n      <td>0</td>\n      <td>0</td>\n      <td>0</td>\n      <td>0</td>\n      <td>0</td>\n      <td>0</td>\n      <td>0</td>\n      <td>0</td>\n      <td>0</td>\n      <td>0</td>\n      <td>0</td>\n    </tr>\n  </tbody>\n</table>\n</div>"
                    },
                    "metadata": {}
                }
            ]
        },
        {
            "metadata": {},
            "cell_type": "code",
            "source": "# Group rows by neighborhood by taking the mean of each category\n\nhwd_grouped = hwd_onehot.groupby([\"Neighborhoods\"]).mean().reset_index()\n\nprint(hwd_grouped.shape)\nhwd_grouped",
            "execution_count": 25,
            "outputs": [
                {
                    "output_type": "stream",
                    "text": "(5, 103)\n",
                    "name": "stdout"
                },
                {
                    "output_type": "execute_result",
                    "execution_count": 25,
                    "data": {
                        "text/plain": "               Neighborhoods  Afghan Restaurant  Airport  American Restaurant  \\\n0           Downtown Hayward               0.01     0.00                 0.02   \n1   Eden Landing, California               0.01     0.00                 0.02   \n2  Hayward Heath, California               0.01     0.00                 0.02   \n3     Mount Eden, California               0.01     0.00                 0.01   \n4   Schafer Park, California               0.01     0.01                 0.01   \n\n   Arts & Crafts Store  Asian Restaurant  Athletics & Sports  Auto Dealership  \\\n0                 0.01              0.01                0.00             0.00   \n1                 0.00              0.00                0.01             0.01   \n2                 0.00              0.00                0.01             0.01   \n3                 0.00              0.00                0.00             0.00   \n4                 0.00              0.02                0.00             0.00   \n\n   BBQ Joint  Bakery  Bank   Bar  Beer Garden  Beer Store  Breakfast Spot  \\\n0       0.02    0.03  0.00  0.01         0.00        0.00            0.03   \n1       0.00    0.03  0.00  0.00         0.01        0.01            0.01   \n2       0.00    0.03  0.00  0.00         0.01        0.01            0.01   \n3       0.02    0.02  0.00  0.03         0.00        0.00            0.03   \n4       0.03    0.01  0.01  0.03         0.00        0.00            0.02   \n\n   Bubble Tea Shop  Burger Joint  Burmese Restaurant  Caf\u00e9  \\\n0             0.00          0.05                0.00  0.03   \n1             0.00          0.04                0.01  0.01   \n2             0.00          0.04                0.01  0.01   \n3             0.01          0.05                0.00  0.04   \n4             0.00          0.07                0.00  0.03   \n\n   Chinese Restaurant  City Hall  Coffee Shop  Comedy Club  Comic Shop  \\\n0                0.04       0.00         0.08         0.00        0.00   \n1                0.00       0.00         0.05         0.01        0.01   \n2                0.00       0.00         0.05         0.01        0.01   \n3                0.03       0.01         0.08         0.00        0.00   \n4                0.02       0.01         0.06         0.00        0.00   \n\n   Convenience Store  Cosmetics Shop  Cupcake Shop  Deli / Bodega  \\\n0               0.00            0.00          0.00           0.01   \n1               0.01            0.03          0.01           0.00   \n2               0.01            0.03          0.01           0.00   \n3               0.00            0.00          0.00           0.01   \n4               0.00            0.00          0.00           0.01   \n\n   Department Store  Dessert Shop  Diner  Discount Store  Doctor's Office  \\\n0              0.00          0.01   0.01            0.00             0.01   \n1              0.02          0.00   0.00            0.01             0.00   \n2              0.02          0.00   0.00            0.01             0.00   \n3              0.00          0.00   0.03            0.00             0.00   \n4              0.00          0.00   0.02            0.00             0.01   \n\n   Donut Shop  Dumpling Restaurant  Fabric Shop  Fair  Falafel Restaurant  \\\n0        0.01                 0.01         0.00  0.00                0.00   \n1        0.01                 0.00         0.01  0.01                0.01   \n2        0.01                 0.00         0.01  0.01                0.01   \n3        0.00                 0.01         0.00  0.00                0.00   \n4        0.00                 0.01         0.00  0.00                0.00   \n\n   Farmers Market  Fast Food Restaurant  Filipino Restaurant  Food Court  \\\n0            0.01                  0.03                 0.00        0.01   \n1            0.01                  0.02                 0.00        0.00   \n2            0.01                  0.02                 0.00        0.00   \n3            0.01                  0.03                 0.02        0.01   \n4            0.01                  0.04                 0.00        0.01   \n\n   Food Truck  Frozen Yogurt Shop  Furniture / Home Store  Garden  Gastropub  \\\n0        0.00                0.01                    0.00    0.00       0.00   \n1        0.01                0.01                    0.01    0.00       0.00   \n2        0.01                0.01                    0.01    0.00       0.00   \n3        0.00                0.00                    0.00    0.01       0.01   \n4        0.00                0.00                    0.00    0.00       0.01   \n\n   General Entertainment  Golf Course  Grocery Store  Gun Shop   Gym  \\\n0                   0.01         0.01           0.04      0.00  0.02   \n1                   0.00         0.01           0.04      0.01  0.01   \n2                   0.00         0.01           0.04      0.01  0.01   \n3                   0.01         0.01           0.05      0.00  0.01   \n4                   0.01         0.00           0.05      0.00  0.01   \n\n   Gym / Fitness Center  Gymnastics Gym  Hawaiian Restaurant  \\\n0                  0.01            0.00                 0.00   \n1                  0.00            0.01                 0.00   \n2                  0.00            0.01                 0.00   \n3                  0.00            0.00                 0.00   \n4                  0.00            0.00                 0.01   \n\n   Health & Beauty Service  Hot Dog Joint  Hotel  Hunan Restaurant  \\\n0                     0.01           0.01   0.00              0.01   \n1                     0.00           0.01   0.01              0.00   \n2                     0.00           0.01   0.01              0.00   \n3                     0.01           0.01   0.00              0.00   \n4                     0.01           0.01   0.00              0.01   \n\n   Ice Cream Shop  Indian Restaurant  Italian Restaurant  Japanese Restaurant  \\\n0            0.02               0.01                0.01                 0.01   \n1            0.01               0.03                0.01                 0.00   \n2            0.01               0.03                0.01                 0.00   \n3            0.02               0.02                0.01                 0.01   \n4            0.02               0.01                0.02                 0.01   \n\n   Juice Bar  Latin American Restaurant  Lingerie Store  Liquor Store  Market  \\\n0       0.01                       0.01            0.01          0.00    0.00   \n1       0.00                       0.00            0.01          0.01    0.00   \n2       0.00                       0.00            0.01          0.01    0.00   \n3       0.00                       0.01            0.01          0.00    0.01   \n4       0.02                       0.01            0.01          0.00    0.01   \n\n   Martial Arts Dojo  Mediterranean Restaurant  Mexican Restaurant  \\\n0               0.00                      0.00                0.06   \n1               0.02                      0.01                0.02   \n2               0.02                      0.01                0.02   \n3               0.00                      0.00                0.06   \n4               0.00                      0.00                0.05   \n\n   Middle Eastern Restaurant  Motorsports Shop  Movie Theater  \\\n0                       0.00              0.01           0.01   \n1                       0.01              0.00           0.01   \n2                       0.01              0.00           0.01   \n3                       0.00              0.01           0.01   \n4                       0.00              0.01           0.01   \n\n   New American Restaurant  Paper / Office Supplies Store  Park  Pet Store  \\\n0                     0.00                           0.00  0.05       0.01   \n1                     0.01                           0.01  0.04       0.01   \n2                     0.01                           0.01  0.04       0.01   \n3                     0.00                           0.00  0.06       0.01   \n4                     0.00                           0.00  0.04       0.00   \n\n   Pharmacy  Pizza Place  Playground  Pool   Pub  Ramen Restaurant  Resort  \\\n0      0.01         0.02        0.00  0.01  0.00              0.01    0.00   \n1      0.00         0.02        0.00  0.01  0.01              0.00    0.01   \n2      0.00         0.02        0.00  0.01  0.01              0.00    0.01   \n3      0.01         0.01        0.01  0.02  0.00              0.00    0.00   \n4      0.01         0.01        0.01  0.01  0.00              0.01    0.00   \n\n   Sandwich Place  Shopping Mall  Smoke Shop  Smoothie Shop   Spa  \\\n0            0.01           0.00        0.01           0.00  0.00   \n1            0.05           0.02        0.00           0.01  0.01   \n2            0.05           0.02        0.00           0.01  0.01   \n3            0.02           0.00        0.01           0.00  0.01   \n4            0.01           0.00        0.01           0.00  0.00   \n\n   Sporting Goods Shop  Steakhouse  Supermarket  Sushi Restaurant  \\\n0                 0.00        0.01         0.01              0.01   \n1                 0.02        0.00         0.00              0.04   \n2                 0.02        0.00         0.00              0.04   \n3                 0.00        0.01         0.01              0.01   \n4                 0.00        0.01         0.01              0.01   \n\n   Thai Restaurant  Theater  Toy / Game Store  Trail  \\\n0             0.03     0.00              0.00   0.00   \n1             0.00     0.00              0.01   0.02   \n2             0.00     0.00              0.01   0.02   \n3             0.02     0.01              0.00   0.00   \n4             0.02     0.00              0.00   0.02   \n\n   Vegetarian / Vegan Restaurant  Vietnamese Restaurant  Warehouse Store  \\\n0                           0.00                   0.04             0.01   \n1                           0.01                   0.01             0.00   \n2                           0.01                   0.01             0.00   \n3                           0.00                   0.01             0.01   \n4                           0.00                   0.04             0.01   \n\n   Wine Shop  Yoga Studio  \n0       0.00         0.02  \n1       0.01         0.01  \n2       0.01         0.01  \n3       0.00         0.01  \n4       0.00         0.02  ",
                        "text/html": "<div>\n<style scoped>\n    .dataframe tbody tr th:only-of-type {\n        vertical-align: middle;\n    }\n\n    .dataframe tbody tr th {\n        vertical-align: top;\n    }\n\n    .dataframe thead th {\n        text-align: right;\n    }\n</style>\n<table border=\"1\" class=\"dataframe\">\n  <thead>\n    <tr style=\"text-align: right;\">\n      <th></th>\n      <th>Neighborhoods</th>\n      <th>Afghan Restaurant</th>\n      <th>Airport</th>\n      <th>American Restaurant</th>\n      <th>Arts &amp; Crafts Store</th>\n      <th>Asian Restaurant</th>\n      <th>Athletics &amp; Sports</th>\n      <th>Auto Dealership</th>\n      <th>BBQ Joint</th>\n      <th>Bakery</th>\n      <th>Bank</th>\n      <th>Bar</th>\n      <th>Beer Garden</th>\n      <th>Beer Store</th>\n      <th>Breakfast Spot</th>\n      <th>Bubble Tea Shop</th>\n      <th>Burger Joint</th>\n      <th>Burmese Restaurant</th>\n      <th>Caf\u00e9</th>\n      <th>Chinese Restaurant</th>\n      <th>City Hall</th>\n      <th>Coffee Shop</th>\n      <th>Comedy Club</th>\n      <th>Comic Shop</th>\n      <th>Convenience Store</th>\n      <th>Cosmetics Shop</th>\n      <th>Cupcake Shop</th>\n      <th>Deli / Bodega</th>\n      <th>Department Store</th>\n      <th>Dessert Shop</th>\n      <th>Diner</th>\n      <th>Discount Store</th>\n      <th>Doctor's Office</th>\n      <th>Donut Shop</th>\n      <th>Dumpling Restaurant</th>\n      <th>Fabric Shop</th>\n      <th>Fair</th>\n      <th>Falafel Restaurant</th>\n      <th>Farmers Market</th>\n      <th>Fast Food Restaurant</th>\n      <th>Filipino Restaurant</th>\n      <th>Food Court</th>\n      <th>Food Truck</th>\n      <th>Frozen Yogurt Shop</th>\n      <th>Furniture / Home Store</th>\n      <th>Garden</th>\n      <th>Gastropub</th>\n      <th>General Entertainment</th>\n      <th>Golf Course</th>\n      <th>Grocery Store</th>\n      <th>Gun Shop</th>\n      <th>Gym</th>\n      <th>Gym / Fitness Center</th>\n      <th>Gymnastics Gym</th>\n      <th>Hawaiian Restaurant</th>\n      <th>Health &amp; Beauty Service</th>\n      <th>Hot Dog Joint</th>\n      <th>Hotel</th>\n      <th>Hunan Restaurant</th>\n      <th>Ice Cream Shop</th>\n      <th>Indian Restaurant</th>\n      <th>Italian Restaurant</th>\n      <th>Japanese Restaurant</th>\n      <th>Juice Bar</th>\n      <th>Latin American Restaurant</th>\n      <th>Lingerie Store</th>\n      <th>Liquor Store</th>\n      <th>Market</th>\n      <th>Martial Arts Dojo</th>\n      <th>Mediterranean Restaurant</th>\n      <th>Mexican Restaurant</th>\n      <th>Middle Eastern Restaurant</th>\n      <th>Motorsports Shop</th>\n      <th>Movie Theater</th>\n      <th>New American Restaurant</th>\n      <th>Paper / Office Supplies Store</th>\n      <th>Park</th>\n      <th>Pet Store</th>\n      <th>Pharmacy</th>\n      <th>Pizza Place</th>\n      <th>Playground</th>\n      <th>Pool</th>\n      <th>Pub</th>\n      <th>Ramen Restaurant</th>\n      <th>Resort</th>\n      <th>Sandwich Place</th>\n      <th>Shopping Mall</th>\n      <th>Smoke Shop</th>\n      <th>Smoothie Shop</th>\n      <th>Spa</th>\n      <th>Sporting Goods Shop</th>\n      <th>Steakhouse</th>\n      <th>Supermarket</th>\n      <th>Sushi Restaurant</th>\n      <th>Thai Restaurant</th>\n      <th>Theater</th>\n      <th>Toy / Game Store</th>\n      <th>Trail</th>\n      <th>Vegetarian / Vegan Restaurant</th>\n      <th>Vietnamese Restaurant</th>\n      <th>Warehouse Store</th>\n      <th>Wine Shop</th>\n      <th>Yoga Studio</th>\n    </tr>\n  </thead>\n  <tbody>\n    <tr>\n      <th>0</th>\n      <td>Downtown Hayward</td>\n      <td>0.01</td>\n      <td>0.00</td>\n      <td>0.02</td>\n      <td>0.01</td>\n      <td>0.01</td>\n      <td>0.00</td>\n      <td>0.00</td>\n      <td>0.02</td>\n      <td>0.03</td>\n      <td>0.00</td>\n      <td>0.01</td>\n      <td>0.00</td>\n      <td>0.00</td>\n      <td>0.03</td>\n      <td>0.00</td>\n      <td>0.05</td>\n      <td>0.00</td>\n      <td>0.03</td>\n      <td>0.04</td>\n      <td>0.00</td>\n      <td>0.08</td>\n      <td>0.00</td>\n      <td>0.00</td>\n      <td>0.00</td>\n      <td>0.00</td>\n      <td>0.00</td>\n      <td>0.01</td>\n      <td>0.00</td>\n      <td>0.01</td>\n      <td>0.01</td>\n      <td>0.00</td>\n      <td>0.01</td>\n      <td>0.01</td>\n      <td>0.01</td>\n      <td>0.00</td>\n      <td>0.00</td>\n      <td>0.00</td>\n      <td>0.01</td>\n      <td>0.03</td>\n      <td>0.00</td>\n      <td>0.01</td>\n      <td>0.00</td>\n      <td>0.01</td>\n      <td>0.00</td>\n      <td>0.00</td>\n      <td>0.00</td>\n      <td>0.01</td>\n      <td>0.01</td>\n      <td>0.04</td>\n      <td>0.00</td>\n      <td>0.02</td>\n      <td>0.01</td>\n      <td>0.00</td>\n      <td>0.00</td>\n      <td>0.01</td>\n      <td>0.01</td>\n      <td>0.00</td>\n      <td>0.01</td>\n      <td>0.02</td>\n      <td>0.01</td>\n      <td>0.01</td>\n      <td>0.01</td>\n      <td>0.01</td>\n      <td>0.01</td>\n      <td>0.01</td>\n      <td>0.00</td>\n      <td>0.00</td>\n      <td>0.00</td>\n      <td>0.00</td>\n      <td>0.06</td>\n      <td>0.00</td>\n      <td>0.01</td>\n      <td>0.01</td>\n      <td>0.00</td>\n      <td>0.00</td>\n      <td>0.05</td>\n      <td>0.01</td>\n      <td>0.01</td>\n      <td>0.02</td>\n      <td>0.00</td>\n      <td>0.01</td>\n      <td>0.00</td>\n      <td>0.01</td>\n      <td>0.00</td>\n      <td>0.01</td>\n      <td>0.00</td>\n      <td>0.01</td>\n      <td>0.00</td>\n      <td>0.00</td>\n      <td>0.00</td>\n      <td>0.01</td>\n      <td>0.01</td>\n      <td>0.01</td>\n      <td>0.03</td>\n      <td>0.00</td>\n      <td>0.00</td>\n      <td>0.00</td>\n      <td>0.00</td>\n      <td>0.04</td>\n      <td>0.01</td>\n      <td>0.00</td>\n      <td>0.02</td>\n    </tr>\n    <tr>\n      <th>1</th>\n      <td>Eden Landing, California</td>\n      <td>0.01</td>\n      <td>0.00</td>\n      <td>0.02</td>\n      <td>0.00</td>\n      <td>0.00</td>\n      <td>0.01</td>\n      <td>0.01</td>\n      <td>0.00</td>\n      <td>0.03</td>\n      <td>0.00</td>\n      <td>0.00</td>\n      <td>0.01</td>\n      <td>0.01</td>\n      <td>0.01</td>\n      <td>0.00</td>\n      <td>0.04</td>\n      <td>0.01</td>\n      <td>0.01</td>\n      <td>0.00</td>\n      <td>0.00</td>\n      <td>0.05</td>\n      <td>0.01</td>\n      <td>0.01</td>\n      <td>0.01</td>\n      <td>0.03</td>\n      <td>0.01</td>\n      <td>0.00</td>\n      <td>0.02</td>\n      <td>0.00</td>\n      <td>0.00</td>\n      <td>0.01</td>\n      <td>0.00</td>\n      <td>0.01</td>\n      <td>0.00</td>\n      <td>0.01</td>\n      <td>0.01</td>\n      <td>0.01</td>\n      <td>0.01</td>\n      <td>0.02</td>\n      <td>0.00</td>\n      <td>0.00</td>\n      <td>0.01</td>\n      <td>0.01</td>\n      <td>0.01</td>\n      <td>0.00</td>\n      <td>0.00</td>\n      <td>0.00</td>\n      <td>0.01</td>\n      <td>0.04</td>\n      <td>0.01</td>\n      <td>0.01</td>\n      <td>0.00</td>\n      <td>0.01</td>\n      <td>0.00</td>\n      <td>0.00</td>\n      <td>0.01</td>\n      <td>0.01</td>\n      <td>0.00</td>\n      <td>0.01</td>\n      <td>0.03</td>\n      <td>0.01</td>\n      <td>0.00</td>\n      <td>0.00</td>\n      <td>0.00</td>\n      <td>0.01</td>\n      <td>0.01</td>\n      <td>0.00</td>\n      <td>0.02</td>\n      <td>0.01</td>\n      <td>0.02</td>\n      <td>0.01</td>\n      <td>0.00</td>\n      <td>0.01</td>\n      <td>0.01</td>\n      <td>0.01</td>\n      <td>0.04</td>\n      <td>0.01</td>\n      <td>0.00</td>\n      <td>0.02</td>\n      <td>0.00</td>\n      <td>0.01</td>\n      <td>0.01</td>\n      <td>0.00</td>\n      <td>0.01</td>\n      <td>0.05</td>\n      <td>0.02</td>\n      <td>0.00</td>\n      <td>0.01</td>\n      <td>0.01</td>\n      <td>0.02</td>\n      <td>0.00</td>\n      <td>0.00</td>\n      <td>0.04</td>\n      <td>0.00</td>\n      <td>0.00</td>\n      <td>0.01</td>\n      <td>0.02</td>\n      <td>0.01</td>\n      <td>0.01</td>\n      <td>0.00</td>\n      <td>0.01</td>\n      <td>0.01</td>\n    </tr>\n    <tr>\n      <th>2</th>\n      <td>Hayward Heath, California</td>\n      <td>0.01</td>\n      <td>0.00</td>\n      <td>0.02</td>\n      <td>0.00</td>\n      <td>0.00</td>\n      <td>0.01</td>\n      <td>0.01</td>\n      <td>0.00</td>\n      <td>0.03</td>\n      <td>0.00</td>\n      <td>0.00</td>\n      <td>0.01</td>\n      <td>0.01</td>\n      <td>0.01</td>\n      <td>0.00</td>\n      <td>0.04</td>\n      <td>0.01</td>\n      <td>0.01</td>\n      <td>0.00</td>\n      <td>0.00</td>\n      <td>0.05</td>\n      <td>0.01</td>\n      <td>0.01</td>\n      <td>0.01</td>\n      <td>0.03</td>\n      <td>0.01</td>\n      <td>0.00</td>\n      <td>0.02</td>\n      <td>0.00</td>\n      <td>0.00</td>\n      <td>0.01</td>\n      <td>0.00</td>\n      <td>0.01</td>\n      <td>0.00</td>\n      <td>0.01</td>\n      <td>0.01</td>\n      <td>0.01</td>\n      <td>0.01</td>\n      <td>0.02</td>\n      <td>0.00</td>\n      <td>0.00</td>\n      <td>0.01</td>\n      <td>0.01</td>\n      <td>0.01</td>\n      <td>0.00</td>\n      <td>0.00</td>\n      <td>0.00</td>\n      <td>0.01</td>\n      <td>0.04</td>\n      <td>0.01</td>\n      <td>0.01</td>\n      <td>0.00</td>\n      <td>0.01</td>\n      <td>0.00</td>\n      <td>0.00</td>\n      <td>0.01</td>\n      <td>0.01</td>\n      <td>0.00</td>\n      <td>0.01</td>\n      <td>0.03</td>\n      <td>0.01</td>\n      <td>0.00</td>\n      <td>0.00</td>\n      <td>0.00</td>\n      <td>0.01</td>\n      <td>0.01</td>\n      <td>0.00</td>\n      <td>0.02</td>\n      <td>0.01</td>\n      <td>0.02</td>\n      <td>0.01</td>\n      <td>0.00</td>\n      <td>0.01</td>\n      <td>0.01</td>\n      <td>0.01</td>\n      <td>0.04</td>\n      <td>0.01</td>\n      <td>0.00</td>\n      <td>0.02</td>\n      <td>0.00</td>\n      <td>0.01</td>\n      <td>0.01</td>\n      <td>0.00</td>\n      <td>0.01</td>\n      <td>0.05</td>\n      <td>0.02</td>\n      <td>0.00</td>\n      <td>0.01</td>\n      <td>0.01</td>\n      <td>0.02</td>\n      <td>0.00</td>\n      <td>0.00</td>\n      <td>0.04</td>\n      <td>0.00</td>\n      <td>0.00</td>\n      <td>0.01</td>\n      <td>0.02</td>\n      <td>0.01</td>\n      <td>0.01</td>\n      <td>0.00</td>\n      <td>0.01</td>\n      <td>0.01</td>\n    </tr>\n    <tr>\n      <th>3</th>\n      <td>Mount Eden, California</td>\n      <td>0.01</td>\n      <td>0.00</td>\n      <td>0.01</td>\n      <td>0.00</td>\n      <td>0.00</td>\n      <td>0.00</td>\n      <td>0.00</td>\n      <td>0.02</td>\n      <td>0.02</td>\n      <td>0.00</td>\n      <td>0.03</td>\n      <td>0.00</td>\n      <td>0.00</td>\n      <td>0.03</td>\n      <td>0.01</td>\n      <td>0.05</td>\n      <td>0.00</td>\n      <td>0.04</td>\n      <td>0.03</td>\n      <td>0.01</td>\n      <td>0.08</td>\n      <td>0.00</td>\n      <td>0.00</td>\n      <td>0.00</td>\n      <td>0.00</td>\n      <td>0.00</td>\n      <td>0.01</td>\n      <td>0.00</td>\n      <td>0.00</td>\n      <td>0.03</td>\n      <td>0.00</td>\n      <td>0.00</td>\n      <td>0.00</td>\n      <td>0.01</td>\n      <td>0.00</td>\n      <td>0.00</td>\n      <td>0.00</td>\n      <td>0.01</td>\n      <td>0.03</td>\n      <td>0.02</td>\n      <td>0.01</td>\n      <td>0.00</td>\n      <td>0.00</td>\n      <td>0.00</td>\n      <td>0.01</td>\n      <td>0.01</td>\n      <td>0.01</td>\n      <td>0.01</td>\n      <td>0.05</td>\n      <td>0.00</td>\n      <td>0.01</td>\n      <td>0.00</td>\n      <td>0.00</td>\n      <td>0.00</td>\n      <td>0.01</td>\n      <td>0.01</td>\n      <td>0.00</td>\n      <td>0.00</td>\n      <td>0.02</td>\n      <td>0.02</td>\n      <td>0.01</td>\n      <td>0.01</td>\n      <td>0.00</td>\n      <td>0.01</td>\n      <td>0.01</td>\n      <td>0.00</td>\n      <td>0.01</td>\n      <td>0.00</td>\n      <td>0.00</td>\n      <td>0.06</td>\n      <td>0.00</td>\n      <td>0.01</td>\n      <td>0.01</td>\n      <td>0.00</td>\n      <td>0.00</td>\n      <td>0.06</td>\n      <td>0.01</td>\n      <td>0.01</td>\n      <td>0.01</td>\n      <td>0.01</td>\n      <td>0.02</td>\n      <td>0.00</td>\n      <td>0.00</td>\n      <td>0.00</td>\n      <td>0.02</td>\n      <td>0.00</td>\n      <td>0.01</td>\n      <td>0.00</td>\n      <td>0.01</td>\n      <td>0.00</td>\n      <td>0.01</td>\n      <td>0.01</td>\n      <td>0.01</td>\n      <td>0.02</td>\n      <td>0.01</td>\n      <td>0.00</td>\n      <td>0.00</td>\n      <td>0.00</td>\n      <td>0.01</td>\n      <td>0.01</td>\n      <td>0.00</td>\n      <td>0.01</td>\n    </tr>\n    <tr>\n      <th>4</th>\n      <td>Schafer Park, California</td>\n      <td>0.01</td>\n      <td>0.01</td>\n      <td>0.01</td>\n      <td>0.00</td>\n      <td>0.02</td>\n      <td>0.00</td>\n      <td>0.00</td>\n      <td>0.03</td>\n      <td>0.01</td>\n      <td>0.01</td>\n      <td>0.03</td>\n      <td>0.00</td>\n      <td>0.00</td>\n      <td>0.02</td>\n      <td>0.00</td>\n      <td>0.07</td>\n      <td>0.00</td>\n      <td>0.03</td>\n      <td>0.02</td>\n      <td>0.01</td>\n      <td>0.06</td>\n      <td>0.00</td>\n      <td>0.00</td>\n      <td>0.00</td>\n      <td>0.00</td>\n      <td>0.00</td>\n      <td>0.01</td>\n      <td>0.00</td>\n      <td>0.00</td>\n      <td>0.02</td>\n      <td>0.00</td>\n      <td>0.01</td>\n      <td>0.00</td>\n      <td>0.01</td>\n      <td>0.00</td>\n      <td>0.00</td>\n      <td>0.00</td>\n      <td>0.01</td>\n      <td>0.04</td>\n      <td>0.00</td>\n      <td>0.01</td>\n      <td>0.00</td>\n      <td>0.00</td>\n      <td>0.00</td>\n      <td>0.00</td>\n      <td>0.01</td>\n      <td>0.01</td>\n      <td>0.00</td>\n      <td>0.05</td>\n      <td>0.00</td>\n      <td>0.01</td>\n      <td>0.00</td>\n      <td>0.00</td>\n      <td>0.01</td>\n      <td>0.01</td>\n      <td>0.01</td>\n      <td>0.00</td>\n      <td>0.01</td>\n      <td>0.02</td>\n      <td>0.01</td>\n      <td>0.02</td>\n      <td>0.01</td>\n      <td>0.02</td>\n      <td>0.01</td>\n      <td>0.01</td>\n      <td>0.00</td>\n      <td>0.01</td>\n      <td>0.00</td>\n      <td>0.00</td>\n      <td>0.05</td>\n      <td>0.00</td>\n      <td>0.01</td>\n      <td>0.01</td>\n      <td>0.00</td>\n      <td>0.00</td>\n      <td>0.04</td>\n      <td>0.00</td>\n      <td>0.01</td>\n      <td>0.01</td>\n      <td>0.01</td>\n      <td>0.01</td>\n      <td>0.00</td>\n      <td>0.01</td>\n      <td>0.00</td>\n      <td>0.01</td>\n      <td>0.00</td>\n      <td>0.01</td>\n      <td>0.00</td>\n      <td>0.00</td>\n      <td>0.00</td>\n      <td>0.01</td>\n      <td>0.01</td>\n      <td>0.01</td>\n      <td>0.02</td>\n      <td>0.00</td>\n      <td>0.00</td>\n      <td>0.02</td>\n      <td>0.00</td>\n      <td>0.04</td>\n      <td>0.01</td>\n      <td>0.00</td>\n      <td>0.02</td>\n    </tr>\n  </tbody>\n</table>\n</div>"
                    },
                    "metadata": {}
                }
            ]
        },
        {
            "metadata": {},
            "cell_type": "code",
            "source": "len(hwd_grouped[hwd_grouped[\"Gym\"] > 0])",
            "execution_count": 26,
            "outputs": [
                {
                    "output_type": "execute_result",
                    "execution_count": 26,
                    "data": {
                        "text/plain": "5"
                    },
                    "metadata": {}
                }
            ]
        },
        {
            "metadata": {},
            "cell_type": "code",
            "source": "# Create a new DataFrame for Gyms data only\n\nhwd_gym = hwd_grouped[[\"Neighborhoods\",\"Gym\"]]",
            "execution_count": 27,
            "outputs": []
        },
        {
            "metadata": {},
            "cell_type": "code",
            "source": "hwd_gym",
            "execution_count": 28,
            "outputs": [
                {
                    "output_type": "execute_result",
                    "execution_count": 28,
                    "data": {
                        "text/plain": "               Neighborhoods   Gym\n0           Downtown Hayward  0.02\n1   Eden Landing, California  0.01\n2  Hayward Heath, California  0.01\n3     Mount Eden, California  0.01\n4   Schafer Park, California  0.01",
                        "text/html": "<div>\n<style scoped>\n    .dataframe tbody tr th:only-of-type {\n        vertical-align: middle;\n    }\n\n    .dataframe tbody tr th {\n        vertical-align: top;\n    }\n\n    .dataframe thead th {\n        text-align: right;\n    }\n</style>\n<table border=\"1\" class=\"dataframe\">\n  <thead>\n    <tr style=\"text-align: right;\">\n      <th></th>\n      <th>Neighborhoods</th>\n      <th>Gym</th>\n    </tr>\n  </thead>\n  <tbody>\n    <tr>\n      <th>0</th>\n      <td>Downtown Hayward</td>\n      <td>0.02</td>\n    </tr>\n    <tr>\n      <th>1</th>\n      <td>Eden Landing, California</td>\n      <td>0.01</td>\n    </tr>\n    <tr>\n      <th>2</th>\n      <td>Hayward Heath, California</td>\n      <td>0.01</td>\n    </tr>\n    <tr>\n      <th>3</th>\n      <td>Mount Eden, California</td>\n      <td>0.01</td>\n    </tr>\n    <tr>\n      <th>4</th>\n      <td>Schafer Park, California</td>\n      <td>0.01</td>\n    </tr>\n  </tbody>\n</table>\n</div>"
                    },
                    "metadata": {}
                }
            ]
        },
        {
            "metadata": {},
            "cell_type": "markdown",
            "source": "### 7. **Use k-means to Cluster the Neighborhoods**"
        },
        {
            "metadata": {},
            "cell_type": "code",
            "source": "# Run k-means into 2 clusters for the neighborhoods in hayward california, since the neighborhood of hayward is quite small.\n\n# set number of clusters\nkclusters = 2\n\nhwdkl_clustering = hwd_gym.drop([\"Neighborhoods\"], 1)\n\n# run k-means clustering\nkmeans = KMeans(n_clusters=kclusters, random_state=0).fit(hwdkl_clustering)\n\n# check cluster labels generated for each row in the dataframe\nkmeans.labels_[0:10]",
            "execution_count": 29,
            "outputs": [
                {
                    "output_type": "execute_result",
                    "execution_count": 29,
                    "data": {
                        "text/plain": "array([1, 0, 0, 0, 0], dtype=int32)"
                    },
                    "metadata": {}
                }
            ]
        },
        {
            "metadata": {},
            "cell_type": "code",
            "source": "# make a new dataframe that includes the cluster as well as the top 10 venues for each neighborhood.\nhwd_merged = hwd_gym.copy()\n\n# add clustering labels\nhwd_merged[\"Cluster Labels\"] = kmeans.labels_",
            "execution_count": 30,
            "outputs": []
        },
        {
            "metadata": {},
            "cell_type": "code",
            "source": "hwd_merged.rename(columns={\"Neighborhoods\": \"Neighborhood\"}, inplace=True)\nhwd_merged.head()",
            "execution_count": 31,
            "outputs": [
                {
                    "output_type": "execute_result",
                    "execution_count": 31,
                    "data": {
                        "text/plain": "                Neighborhood   Gym  Cluster Labels\n0           Downtown Hayward  0.02               1\n1   Eden Landing, California  0.01               0\n2  Hayward Heath, California  0.01               0\n3     Mount Eden, California  0.01               0\n4   Schafer Park, California  0.01               0",
                        "text/html": "<div>\n<style scoped>\n    .dataframe tbody tr th:only-of-type {\n        vertical-align: middle;\n    }\n\n    .dataframe tbody tr th {\n        vertical-align: top;\n    }\n\n    .dataframe thead th {\n        text-align: right;\n    }\n</style>\n<table border=\"1\" class=\"dataframe\">\n  <thead>\n    <tr style=\"text-align: right;\">\n      <th></th>\n      <th>Neighborhood</th>\n      <th>Gym</th>\n      <th>Cluster Labels</th>\n    </tr>\n  </thead>\n  <tbody>\n    <tr>\n      <th>0</th>\n      <td>Downtown Hayward</td>\n      <td>0.02</td>\n      <td>1</td>\n    </tr>\n    <tr>\n      <th>1</th>\n      <td>Eden Landing, California</td>\n      <td>0.01</td>\n      <td>0</td>\n    </tr>\n    <tr>\n      <th>2</th>\n      <td>Hayward Heath, California</td>\n      <td>0.01</td>\n      <td>0</td>\n    </tr>\n    <tr>\n      <th>3</th>\n      <td>Mount Eden, California</td>\n      <td>0.01</td>\n      <td>0</td>\n    </tr>\n    <tr>\n      <th>4</th>\n      <td>Schafer Park, California</td>\n      <td>0.01</td>\n      <td>0</td>\n    </tr>\n  </tbody>\n</table>\n</div>"
                    },
                    "metadata": {}
                }
            ]
        },
        {
            "metadata": {},
            "cell_type": "code",
            "source": "# merge hwd_grouped with hayward_data to add latitude/longitude for each neighborhood\nhwd_merged = hwd_merged.join(hwd_df.set_index(\"Neighborhood\"), on=\"Neighborhood\")\n\nprint(hwd_merged.shape)\nhwd_merged.head() # check the last columns!",
            "execution_count": 32,
            "outputs": [
                {
                    "output_type": "stream",
                    "text": "(5, 5)\n",
                    "name": "stdout"
                },
                {
                    "output_type": "execute_result",
                    "execution_count": 32,
                    "data": {
                        "text/plain": "                Neighborhood   Gym  Cluster Labels   latitude   longitude\n0           Downtown Hayward  0.02               1  37.633732 -122.061010\n1   Eden Landing, California  0.01               0  37.680181 -121.921498\n2  Hayward Heath, California  0.01               0  37.680181 -121.921498\n3     Mount Eden, California  0.01               0  37.657381 -122.050760\n4   Schafer Park, California  0.01               0  37.635582 -122.104180",
                        "text/html": "<div>\n<style scoped>\n    .dataframe tbody tr th:only-of-type {\n        vertical-align: middle;\n    }\n\n    .dataframe tbody tr th {\n        vertical-align: top;\n    }\n\n    .dataframe thead th {\n        text-align: right;\n    }\n</style>\n<table border=\"1\" class=\"dataframe\">\n  <thead>\n    <tr style=\"text-align: right;\">\n      <th></th>\n      <th>Neighborhood</th>\n      <th>Gym</th>\n      <th>Cluster Labels</th>\n      <th>latitude</th>\n      <th>longitude</th>\n    </tr>\n  </thead>\n  <tbody>\n    <tr>\n      <th>0</th>\n      <td>Downtown Hayward</td>\n      <td>0.02</td>\n      <td>1</td>\n      <td>37.633732</td>\n      <td>-122.061010</td>\n    </tr>\n    <tr>\n      <th>1</th>\n      <td>Eden Landing, California</td>\n      <td>0.01</td>\n      <td>0</td>\n      <td>37.680181</td>\n      <td>-121.921498</td>\n    </tr>\n    <tr>\n      <th>2</th>\n      <td>Hayward Heath, California</td>\n      <td>0.01</td>\n      <td>0</td>\n      <td>37.680181</td>\n      <td>-121.921498</td>\n    </tr>\n    <tr>\n      <th>3</th>\n      <td>Mount Eden, California</td>\n      <td>0.01</td>\n      <td>0</td>\n      <td>37.657381</td>\n      <td>-122.050760</td>\n    </tr>\n    <tr>\n      <th>4</th>\n      <td>Schafer Park, California</td>\n      <td>0.01</td>\n      <td>0</td>\n      <td>37.635582</td>\n      <td>-122.104180</td>\n    </tr>\n  </tbody>\n</table>\n</div>"
                    },
                    "metadata": {}
                }
            ]
        },
        {
            "metadata": {},
            "cell_type": "code",
            "source": "# sort the results by Cluster Labels\nprint(hwd_merged.shape)\nhwd_merged.sort_values([\"Cluster Labels\"], inplace=True)\nhwd_merged",
            "execution_count": 33,
            "outputs": [
                {
                    "output_type": "stream",
                    "text": "(5, 5)\n",
                    "name": "stdout"
                },
                {
                    "output_type": "execute_result",
                    "execution_count": 33,
                    "data": {
                        "text/plain": "                Neighborhood   Gym  Cluster Labels   latitude   longitude\n1   Eden Landing, California  0.01               0  37.680181 -121.921498\n2  Hayward Heath, California  0.01               0  37.680181 -121.921498\n3     Mount Eden, California  0.01               0  37.657381 -122.050760\n4   Schafer Park, California  0.01               0  37.635582 -122.104180\n0           Downtown Hayward  0.02               1  37.633732 -122.061010",
                        "text/html": "<div>\n<style scoped>\n    .dataframe tbody tr th:only-of-type {\n        vertical-align: middle;\n    }\n\n    .dataframe tbody tr th {\n        vertical-align: top;\n    }\n\n    .dataframe thead th {\n        text-align: right;\n    }\n</style>\n<table border=\"1\" class=\"dataframe\">\n  <thead>\n    <tr style=\"text-align: right;\">\n      <th></th>\n      <th>Neighborhood</th>\n      <th>Gym</th>\n      <th>Cluster Labels</th>\n      <th>latitude</th>\n      <th>longitude</th>\n    </tr>\n  </thead>\n  <tbody>\n    <tr>\n      <th>1</th>\n      <td>Eden Landing, California</td>\n      <td>0.01</td>\n      <td>0</td>\n      <td>37.680181</td>\n      <td>-121.921498</td>\n    </tr>\n    <tr>\n      <th>2</th>\n      <td>Hayward Heath, California</td>\n      <td>0.01</td>\n      <td>0</td>\n      <td>37.680181</td>\n      <td>-121.921498</td>\n    </tr>\n    <tr>\n      <th>3</th>\n      <td>Mount Eden, California</td>\n      <td>0.01</td>\n      <td>0</td>\n      <td>37.657381</td>\n      <td>-122.050760</td>\n    </tr>\n    <tr>\n      <th>4</th>\n      <td>Schafer Park, California</td>\n      <td>0.01</td>\n      <td>0</td>\n      <td>37.635582</td>\n      <td>-122.104180</td>\n    </tr>\n    <tr>\n      <th>0</th>\n      <td>Downtown Hayward</td>\n      <td>0.02</td>\n      <td>1</td>\n      <td>37.633732</td>\n      <td>-122.061010</td>\n    </tr>\n  </tbody>\n</table>\n</div>"
                    },
                    "metadata": {}
                }
            ]
        },
        {
            "metadata": {},
            "cell_type": "markdown",
            "source": "### **Let's Visualize the resulting clusters**"
        },
        {
            "metadata": {},
            "cell_type": "code",
            "source": "# create map\nhwdmap_clusters = folium.Map(location=[latitude, longitude], zoom_start=11)\n\n# set color scheme for the clusters\nx = np.arange(kclusters)\nys = [i+x+(i*x)**2 for i in range(kclusters)]\ncolors_array = cm.rainbow(np.linspace(0, 1, len(ys)))\nrainbow = [colors.rgb2hex(i) for i in colors_array]\n\n# add markers to the map\nmarkers_colors = []\nfor lat, lon, poi, cluster in zip(hwd_merged['latitude'], hwd_merged['longitude'], hwd_merged['Neighborhood'], hwd_merged['Cluster Labels']):\n    label = folium.Popup(str(poi) + ' - Cluster ' + str(cluster), parse_html=True)\n    folium.CircleMarker(\n        [lat, lon],\n        radius=5,\n        popup=label,\n        color=rainbow[cluster-1],\n        fill=True,\n        fill_color=rainbow[cluster-1],\n        fill_opacity=0.7).add_to(hwdmap_clusters)\n       \nhwdmap_clusters",
            "execution_count": 34,
            "outputs": [
                {
                    "output_type": "execute_result",
                    "execution_count": 34,
                    "data": {
                        "text/plain": "<folium.folium.Map at 0x7fa0f6e76278>",
                        "text/html": "<div style=\"width:100%;\"><div style=\"position:relative;width:100%;height:0;padding-bottom:60%;\"><iframe src=\"about:blank\" style=\"position:absolute;width:100%;height:100%;left:0;top:0;border:none !important;\" data-html=PCFET0NUWVBFIGh0bWw+CjxoZWFkPiAgICAKICAgIDxtZXRhIGh0dHAtZXF1aXY9ImNvbnRlbnQtdHlwZSIgY29udGVudD0idGV4dC9odG1sOyBjaGFyc2V0PVVURi04IiAvPgogICAgPHNjcmlwdD5MX1BSRUZFUl9DQU5WQVMgPSBmYWxzZTsgTF9OT19UT1VDSCA9IGZhbHNlOyBMX0RJU0FCTEVfM0QgPSBmYWxzZTs8L3NjcmlwdD4KICAgIDxzY3JpcHQgc3JjPSJodHRwczovL2Nkbi5qc2RlbGl2ci5uZXQvbnBtL2xlYWZsZXRAMS4yLjAvZGlzdC9sZWFmbGV0LmpzIj48L3NjcmlwdD4KICAgIDxzY3JpcHQgc3JjPSJodHRwczovL2FqYXguZ29vZ2xlYXBpcy5jb20vYWpheC9saWJzL2pxdWVyeS8xLjExLjEvanF1ZXJ5Lm1pbi5qcyI+PC9zY3JpcHQ+CiAgICA8c2NyaXB0IHNyYz0iaHR0cHM6Ly9tYXhjZG4uYm9vdHN0cmFwY2RuLmNvbS9ib290c3RyYXAvMy4yLjAvanMvYm9vdHN0cmFwLm1pbi5qcyI+PC9zY3JpcHQ+CiAgICA8c2NyaXB0IHNyYz0iaHR0cHM6Ly9jZG5qcy5jbG91ZGZsYXJlLmNvbS9hamF4L2xpYnMvTGVhZmxldC5hd2Vzb21lLW1hcmtlcnMvMi4wLjIvbGVhZmxldC5hd2Vzb21lLW1hcmtlcnMuanMiPjwvc2NyaXB0PgogICAgPGxpbmsgcmVsPSJzdHlsZXNoZWV0IiBocmVmPSJodHRwczovL2Nkbi5qc2RlbGl2ci5uZXQvbnBtL2xlYWZsZXRAMS4yLjAvZGlzdC9sZWFmbGV0LmNzcyIvPgogICAgPGxpbmsgcmVsPSJzdHlsZXNoZWV0IiBocmVmPSJodHRwczovL21heGNkbi5ib290c3RyYXBjZG4uY29tL2Jvb3RzdHJhcC8zLjIuMC9jc3MvYm9vdHN0cmFwLm1pbi5jc3MiLz4KICAgIDxsaW5rIHJlbD0ic3R5bGVzaGVldCIgaHJlZj0iaHR0cHM6Ly9tYXhjZG4uYm9vdHN0cmFwY2RuLmNvbS9ib290c3RyYXAvMy4yLjAvY3NzL2Jvb3RzdHJhcC10aGVtZS5taW4uY3NzIi8+CiAgICA8bGluayByZWw9InN0eWxlc2hlZXQiIGhyZWY9Imh0dHBzOi8vbWF4Y2RuLmJvb3RzdHJhcGNkbi5jb20vZm9udC1hd2Vzb21lLzQuNi4zL2Nzcy9mb250LWF3ZXNvbWUubWluLmNzcyIvPgogICAgPGxpbmsgcmVsPSJzdHlsZXNoZWV0IiBocmVmPSJodHRwczovL2NkbmpzLmNsb3VkZmxhcmUuY29tL2FqYXgvbGlicy9MZWFmbGV0LmF3ZXNvbWUtbWFya2Vycy8yLjAuMi9sZWFmbGV0LmF3ZXNvbWUtbWFya2Vycy5jc3MiLz4KICAgIDxsaW5rIHJlbD0ic3R5bGVzaGVldCIgaHJlZj0iaHR0cHM6Ly9yYXdnaXQuY29tL3B5dGhvbi12aXN1YWxpemF0aW9uL2ZvbGl1bS9tYXN0ZXIvZm9saXVtL3RlbXBsYXRlcy9sZWFmbGV0LmF3ZXNvbWUucm90YXRlLmNzcyIvPgogICAgPHN0eWxlPmh0bWwsIGJvZHkge3dpZHRoOiAxMDAlO2hlaWdodDogMTAwJTttYXJnaW46IDA7cGFkZGluZzogMDt9PC9zdHlsZT4KICAgIDxzdHlsZT4jbWFwIHtwb3NpdGlvbjphYnNvbHV0ZTt0b3A6MDtib3R0b206MDtyaWdodDowO2xlZnQ6MDt9PC9zdHlsZT4KICAgIAogICAgICAgICAgICA8c3R5bGU+ICNtYXBfNWRmOTQ3MmUzZjM1NDg0Nzk0YWFmYWM2NDQ4NDBiYzggewogICAgICAgICAgICAgICAgcG9zaXRpb24gOiByZWxhdGl2ZTsKICAgICAgICAgICAgICAgIHdpZHRoIDogMTAwLjAlOwogICAgICAgICAgICAgICAgaGVpZ2h0OiAxMDAuMCU7CiAgICAgICAgICAgICAgICBsZWZ0OiAwLjAlOwogICAgICAgICAgICAgICAgdG9wOiAwLjAlOwogICAgICAgICAgICAgICAgfQogICAgICAgICAgICA8L3N0eWxlPgogICAgICAgIAo8L2hlYWQ+Cjxib2R5PiAgICAKICAgIAogICAgICAgICAgICA8ZGl2IGNsYXNzPSJmb2xpdW0tbWFwIiBpZD0ibWFwXzVkZjk0NzJlM2YzNTQ4NDc5NGFhZmFjNjQ0ODQwYmM4IiA+PC9kaXY+CiAgICAgICAgCjwvYm9keT4KPHNjcmlwdD4gICAgCiAgICAKCiAgICAgICAgICAgIAogICAgICAgICAgICAgICAgdmFyIGJvdW5kcyA9IG51bGw7CiAgICAgICAgICAgIAoKICAgICAgICAgICAgdmFyIG1hcF81ZGY5NDcyZTNmMzU0ODQ3OTRhYWZhYzY0NDg0MGJjOCA9IEwubWFwKAogICAgICAgICAgICAgICAgICAgICAgICAgICAgICAgICAgJ21hcF81ZGY5NDcyZTNmMzU0ODQ3OTRhYWZhYzY0NDg0MGJjOCcsCiAgICAgICAgICAgICAgICAgICAgICAgICAgICAgICAgICB7Y2VudGVyOiBbMzcuNjY4ODIwNSwtMTIyLjA4MDc5NjRdLAogICAgICAgICAgICAgICAgICAgICAgICAgICAgICAgICAgem9vbTogMTEsCiAgICAgICAgICAgICAgICAgICAgICAgICAgICAgICAgICBtYXhCb3VuZHM6IGJvdW5kcywKICAgICAgICAgICAgICAgICAgICAgICAgICAgICAgICAgIGxheWVyczogW10sCiAgICAgICAgICAgICAgICAgICAgICAgICAgICAgICAgICB3b3JsZENvcHlKdW1wOiBmYWxzZSwKICAgICAgICAgICAgICAgICAgICAgICAgICAgICAgICAgIGNyczogTC5DUlMuRVBTRzM4NTcKICAgICAgICAgICAgICAgICAgICAgICAgICAgICAgICAgfSk7CiAgICAgICAgICAgIAogICAgICAgIAogICAgCiAgICAgICAgICAgIHZhciB0aWxlX2xheWVyXzc1OGZmZDAwMWQ1ZjQ2MDc5Nzc5ZjIzMWJjMWM1NjUwID0gTC50aWxlTGF5ZXIoCiAgICAgICAgICAgICAgICAnaHR0cHM6Ly97c30udGlsZS5vcGVuc3RyZWV0bWFwLm9yZy97en0ve3h9L3t5fS5wbmcnLAogICAgICAgICAgICAgICAgewogICJhdHRyaWJ1dGlvbiI6IG51bGwsCiAgImRldGVjdFJldGluYSI6IGZhbHNlLAogICJtYXhab29tIjogMTgsCiAgIm1pblpvb20iOiAxLAogICJub1dyYXAiOiBmYWxzZSwKICAic3ViZG9tYWlucyI6ICJhYmMiCn0KICAgICAgICAgICAgICAgICkuYWRkVG8obWFwXzVkZjk0NzJlM2YzNTQ4NDc5NGFhZmFjNjQ0ODQwYmM4KTsKICAgICAgICAKICAgIAogICAgICAgICAgICB2YXIgY2lyY2xlX21hcmtlcl85N2UzMjM1NzQ2NjE0MGMyYTcxNGVhMTAzYTdiYzIwNSA9IEwuY2lyY2xlTWFya2VyKAogICAgICAgICAgICAgICAgWzM3LjY4MDE4MSwtMTIxLjkyMTQ5OF0sCiAgICAgICAgICAgICAgICB7CiAgImJ1YmJsaW5nTW91c2VFdmVudHMiOiB0cnVlLAogICJjb2xvciI6ICIjZmYwMDAwIiwKICAiZGFzaEFycmF5IjogbnVsbCwKICAiZGFzaE9mZnNldCI6IG51bGwsCiAgImZpbGwiOiB0cnVlLAogICJmaWxsQ29sb3IiOiAiI2ZmMDAwMCIsCiAgImZpbGxPcGFjaXR5IjogMC43LAogICJmaWxsUnVsZSI6ICJldmVub2RkIiwKICAibGluZUNhcCI6ICJyb3VuZCIsCiAgImxpbmVKb2luIjogInJvdW5kIiwKICAib3BhY2l0eSI6IDEuMCwKICAicmFkaXVzIjogNSwKICAic3Ryb2tlIjogdHJ1ZSwKICAid2VpZ2h0IjogMwp9CiAgICAgICAgICAgICAgICApLmFkZFRvKG1hcF81ZGY5NDcyZTNmMzU0ODQ3OTRhYWZhYzY0NDg0MGJjOCk7CiAgICAgICAgICAgIAogICAgCiAgICAgICAgICAgIHZhciBwb3B1cF80YjM0MzA4YWI5OGQ0OGYzOTBjZTcxOGYwZDU3YjU1ZSA9IEwucG9wdXAoe21heFdpZHRoOiAnMzAwJ30pOwoKICAgICAgICAgICAgCiAgICAgICAgICAgICAgICB2YXIgaHRtbF85MWU2YWM5Y2JhNmM0NmZmYTQ2NGJkODgwNmU3YmFmNCA9ICQoJzxkaXYgaWQ9Imh0bWxfOTFlNmFjOWNiYTZjNDZmZmE0NjRiZDg4MDZlN2JhZjQiIHN0eWxlPSJ3aWR0aDogMTAwLjAlOyBoZWlnaHQ6IDEwMC4wJTsiPkVkZW4gTGFuZGluZywgQ2FsaWZvcm5pYSAtIENsdXN0ZXIgMDwvZGl2PicpWzBdOwogICAgICAgICAgICAgICAgcG9wdXBfNGIzNDMwOGFiOThkNDhmMzkwY2U3MThmMGQ1N2I1NWUuc2V0Q29udGVudChodG1sXzkxZTZhYzljYmE2YzQ2ZmZhNDY0YmQ4ODA2ZTdiYWY0KTsKICAgICAgICAgICAgCgogICAgICAgICAgICBjaXJjbGVfbWFya2VyXzk3ZTMyMzU3NDY2MTQwYzJhNzE0ZWExMDNhN2JjMjA1LmJpbmRQb3B1cChwb3B1cF80YjM0MzA4YWI5OGQ0OGYzOTBjZTcxOGYwZDU3YjU1ZSk7CgogICAgICAgICAgICAKICAgICAgICAKICAgIAogICAgICAgICAgICB2YXIgY2lyY2xlX21hcmtlcl9iM2NhYWE4MDA1Njg0NzU2ODg0OGY2YjgyMTJiZGY5MCA9IEwuY2lyY2xlTWFya2VyKAogICAgICAgICAgICAgICAgWzM3LjY4MDE4MSwtMTIxLjkyMTQ5OF0sCiAgICAgICAgICAgICAgICB7CiAgImJ1YmJsaW5nTW91c2VFdmVudHMiOiB0cnVlLAogICJjb2xvciI6ICIjZmYwMDAwIiwKICAiZGFzaEFycmF5IjogbnVsbCwKICAiZGFzaE9mZnNldCI6IG51bGwsCiAgImZpbGwiOiB0cnVlLAogICJmaWxsQ29sb3IiOiAiI2ZmMDAwMCIsCiAgImZpbGxPcGFjaXR5IjogMC43LAogICJmaWxsUnVsZSI6ICJldmVub2RkIiwKICAibGluZUNhcCI6ICJyb3VuZCIsCiAgImxpbmVKb2luIjogInJvdW5kIiwKICAib3BhY2l0eSI6IDEuMCwKICAicmFkaXVzIjogNSwKICAic3Ryb2tlIjogdHJ1ZSwKICAid2VpZ2h0IjogMwp9CiAgICAgICAgICAgICAgICApLmFkZFRvKG1hcF81ZGY5NDcyZTNmMzU0ODQ3OTRhYWZhYzY0NDg0MGJjOCk7CiAgICAgICAgICAgIAogICAgCiAgICAgICAgICAgIHZhciBwb3B1cF9iNzY2OTkxOWM1MWU0NWY0OGJkNjYwMzUwYzM5OGU5MyA9IEwucG9wdXAoe21heFdpZHRoOiAnMzAwJ30pOwoKICAgICAgICAgICAgCiAgICAgICAgICAgICAgICB2YXIgaHRtbF9kNjZmNGFjYzJhMGE0MjVlOWMxYTI1NzA3ZDZlODgyMSA9ICQoJzxkaXYgaWQ9Imh0bWxfZDY2ZjRhY2MyYTBhNDI1ZTljMWEyNTcwN2Q2ZTg4MjEiIHN0eWxlPSJ3aWR0aDogMTAwLjAlOyBoZWlnaHQ6IDEwMC4wJTsiPkhheXdhcmQgSGVhdGgsIENhbGlmb3JuaWEgLSBDbHVzdGVyIDA8L2Rpdj4nKVswXTsKICAgICAgICAgICAgICAgIHBvcHVwX2I3NjY5OTE5YzUxZTQ1ZjQ4YmQ2NjAzNTBjMzk4ZTkzLnNldENvbnRlbnQoaHRtbF9kNjZmNGFjYzJhMGE0MjVlOWMxYTI1NzA3ZDZlODgyMSk7CiAgICAgICAgICAgIAoKICAgICAgICAgICAgY2lyY2xlX21hcmtlcl9iM2NhYWE4MDA1Njg0NzU2ODg0OGY2YjgyMTJiZGY5MC5iaW5kUG9wdXAocG9wdXBfYjc2Njk5MTljNTFlNDVmNDhiZDY2MDM1MGMzOThlOTMpOwoKICAgICAgICAgICAgCiAgICAgICAgCiAgICAKICAgICAgICAgICAgdmFyIGNpcmNsZV9tYXJrZXJfNGRjYWYzMTlkMGI2NDg3OGFiMzQ3YWZkNGViYWQ1YTkgPSBMLmNpcmNsZU1hcmtlcigKICAgICAgICAgICAgICAgIFszNy42NTczODEsLTEyMi4wNTA3NjAwMDAwMDAwMV0sCiAgICAgICAgICAgICAgICB7CiAgImJ1YmJsaW5nTW91c2VFdmVudHMiOiB0cnVlLAogICJjb2xvciI6ICIjZmYwMDAwIiwKICAiZGFzaEFycmF5IjogbnVsbCwKICAiZGFzaE9mZnNldCI6IG51bGwsCiAgImZpbGwiOiB0cnVlLAogICJmaWxsQ29sb3IiOiAiI2ZmMDAwMCIsCiAgImZpbGxPcGFjaXR5IjogMC43LAogICJmaWxsUnVsZSI6ICJldmVub2RkIiwKICAibGluZUNhcCI6ICJyb3VuZCIsCiAgImxpbmVKb2luIjogInJvdW5kIiwKICAib3BhY2l0eSI6IDEuMCwKICAicmFkaXVzIjogNSwKICAic3Ryb2tlIjogdHJ1ZSwKICAid2VpZ2h0IjogMwp9CiAgICAgICAgICAgICAgICApLmFkZFRvKG1hcF81ZGY5NDcyZTNmMzU0ODQ3OTRhYWZhYzY0NDg0MGJjOCk7CiAgICAgICAgICAgIAogICAgCiAgICAgICAgICAgIHZhciBwb3B1cF8zMWQ4MGRiMWRiMTM0MGRlYWU4NmI1NzMzOWQzM2Y2MyA9IEwucG9wdXAoe21heFdpZHRoOiAnMzAwJ30pOwoKICAgICAgICAgICAgCiAgICAgICAgICAgICAgICB2YXIgaHRtbF8zMTI4OTUzYTU4NmY0ODJkOTM1ZGI4OTUxZGI1YWQ2YSA9ICQoJzxkaXYgaWQ9Imh0bWxfMzEyODk1M2E1ODZmNDgyZDkzNWRiODk1MWRiNWFkNmEiIHN0eWxlPSJ3aWR0aDogMTAwLjAlOyBoZWlnaHQ6IDEwMC4wJTsiPk1vdW50IEVkZW4sIENhbGlmb3JuaWEgLSBDbHVzdGVyIDA8L2Rpdj4nKVswXTsKICAgICAgICAgICAgICAgIHBvcHVwXzMxZDgwZGIxZGIxMzQwZGVhZTg2YjU3MzM5ZDMzZjYzLnNldENvbnRlbnQoaHRtbF8zMTI4OTUzYTU4NmY0ODJkOTM1ZGI4OTUxZGI1YWQ2YSk7CiAgICAgICAgICAgIAoKICAgICAgICAgICAgY2lyY2xlX21hcmtlcl80ZGNhZjMxOWQwYjY0ODc4YWIzNDdhZmQ0ZWJhZDVhOS5iaW5kUG9wdXAocG9wdXBfMzFkODBkYjFkYjEzNDBkZWFlODZiNTczMzlkMzNmNjMpOwoKICAgICAgICAgICAgCiAgICAgICAgCiAgICAKICAgICAgICAgICAgdmFyIGNpcmNsZV9tYXJrZXJfOGJmNzFiMjZlZDllNGFjZGEyZmFlMGQ2YjdlMTBlMmEgPSBMLmNpcmNsZU1hcmtlcigKICAgICAgICAgICAgICAgIFszNy42MzU1ODIsLTEyMi4xMDQxOF0sCiAgICAgICAgICAgICAgICB7CiAgImJ1YmJsaW5nTW91c2VFdmVudHMiOiB0cnVlLAogICJjb2xvciI6ICIjZmYwMDAwIiwKICAiZGFzaEFycmF5IjogbnVsbCwKICAiZGFzaE9mZnNldCI6IG51bGwsCiAgImZpbGwiOiB0cnVlLAogICJmaWxsQ29sb3IiOiAiI2ZmMDAwMCIsCiAgImZpbGxPcGFjaXR5IjogMC43LAogICJmaWxsUnVsZSI6ICJldmVub2RkIiwKICAibGluZUNhcCI6ICJyb3VuZCIsCiAgImxpbmVKb2luIjogInJvdW5kIiwKICAib3BhY2l0eSI6IDEuMCwKICAicmFkaXVzIjogNSwKICAic3Ryb2tlIjogdHJ1ZSwKICAid2VpZ2h0IjogMwp9CiAgICAgICAgICAgICAgICApLmFkZFRvKG1hcF81ZGY5NDcyZTNmMzU0ODQ3OTRhYWZhYzY0NDg0MGJjOCk7CiAgICAgICAgICAgIAogICAgCiAgICAgICAgICAgIHZhciBwb3B1cF9mNWUzYjFiMDk5NjY0ZGVjOTcyMWZlMTBlMTRjYzkwYyA9IEwucG9wdXAoe21heFdpZHRoOiAnMzAwJ30pOwoKICAgICAgICAgICAgCiAgICAgICAgICAgICAgICB2YXIgaHRtbF9kNDMxYzMzNTM3NzY0NDE5OGI1YTNlNjhmNWY1MjAwZSA9ICQoJzxkaXYgaWQ9Imh0bWxfZDQzMWMzMzUzNzc2NDQxOThiNWEzZTY4ZjVmNTIwMGUiIHN0eWxlPSJ3aWR0aDogMTAwLjAlOyBoZWlnaHQ6IDEwMC4wJTsiPlNjaGFmZXIgUGFyaywgQ2FsaWZvcm5pYSAtIENsdXN0ZXIgMDwvZGl2PicpWzBdOwogICAgICAgICAgICAgICAgcG9wdXBfZjVlM2IxYjA5OTY2NGRlYzk3MjFmZTEwZTE0Y2M5MGMuc2V0Q29udGVudChodG1sX2Q0MzFjMzM1Mzc3NjQ0MTk4YjVhM2U2OGY1ZjUyMDBlKTsKICAgICAgICAgICAgCgogICAgICAgICAgICBjaXJjbGVfbWFya2VyXzhiZjcxYjI2ZWQ5ZTRhY2RhMmZhZTBkNmI3ZTEwZTJhLmJpbmRQb3B1cChwb3B1cF9mNWUzYjFiMDk5NjY0ZGVjOTcyMWZlMTBlMTRjYzkwYyk7CgogICAgICAgICAgICAKICAgICAgICAKICAgIAogICAgICAgICAgICB2YXIgY2lyY2xlX21hcmtlcl84NzUwZWViMmQxYzM0NWU1OWY0ZmU5ZTU0OGFiYjU1YSA9IEwuY2lyY2xlTWFya2VyKAogICAgICAgICAgICAgICAgWzM3LjYzMzczMiwtMTIyLjA2MTAxMDAwMDAwMDAxXSwKICAgICAgICAgICAgICAgIHsKICAiYnViYmxpbmdNb3VzZUV2ZW50cyI6IHRydWUsCiAgImNvbG9yIjogIiM4MDAwZmYiLAogICJkYXNoQXJyYXkiOiBudWxsLAogICJkYXNoT2Zmc2V0IjogbnVsbCwKICAiZmlsbCI6IHRydWUsCiAgImZpbGxDb2xvciI6ICIjODAwMGZmIiwKICAiZmlsbE9wYWNpdHkiOiAwLjcsCiAgImZpbGxSdWxlIjogImV2ZW5vZGQiLAogICJsaW5lQ2FwIjogInJvdW5kIiwKICAibGluZUpvaW4iOiAicm91bmQiLAogICJvcGFjaXR5IjogMS4wLAogICJyYWRpdXMiOiA1LAogICJzdHJva2UiOiB0cnVlLAogICJ3ZWlnaHQiOiAzCn0KICAgICAgICAgICAgICAgICkuYWRkVG8obWFwXzVkZjk0NzJlM2YzNTQ4NDc5NGFhZmFjNjQ0ODQwYmM4KTsKICAgICAgICAgICAgCiAgICAKICAgICAgICAgICAgdmFyIHBvcHVwX2JjOTY4MjAxODI3OTRlMWI5N2RmMjFiM2I4NTgxMTAzID0gTC5wb3B1cCh7bWF4V2lkdGg6ICczMDAnfSk7CgogICAgICAgICAgICAKICAgICAgICAgICAgICAgIHZhciBodG1sXzFlNDRjZTZjYTUyMzQyMTc4YjQ2MTUyNWU5MzljZGI3ID0gJCgnPGRpdiBpZD0iaHRtbF8xZTQ0Y2U2Y2E1MjM0MjE3OGI0NjE1MjVlOTM5Y2RiNyIgc3R5bGU9IndpZHRoOiAxMDAuMCU7IGhlaWdodDogMTAwLjAlOyI+RG93bnRvd24gSGF5d2FyZCAtIENsdXN0ZXIgMTwvZGl2PicpWzBdOwogICAgICAgICAgICAgICAgcG9wdXBfYmM5NjgyMDE4Mjc5NGUxYjk3ZGYyMWIzYjg1ODExMDMuc2V0Q29udGVudChodG1sXzFlNDRjZTZjYTUyMzQyMTc4YjQ2MTUyNWU5MzljZGI3KTsKICAgICAgICAgICAgCgogICAgICAgICAgICBjaXJjbGVfbWFya2VyXzg3NTBlZWIyZDFjMzQ1ZTU5ZjRmZTllNTQ4YWJiNTVhLmJpbmRQb3B1cChwb3B1cF9iYzk2ODIwMTgyNzk0ZTFiOTdkZjIxYjNiODU4MTEwMyk7CgogICAgICAgICAgICAKICAgICAgICAKPC9zY3JpcHQ+ onload=\"this.contentDocument.open();this.contentDocument.write(atob(this.getAttribute('data-html')));this.contentDocument.close();\" allowfullscreen webkitallowfullscreen mozallowfullscreen></iframe></div></div>"
                    },
                    "metadata": {}
                }
            ]
        },
        {
            "metadata": {},
            "cell_type": "code",
            "source": "# save the map as HTML file\nhwdmap_clusters.save('hwdmap_clusters.html')",
            "execution_count": 35,
            "outputs": []
        },
        {
            "metadata": {},
            "cell_type": "markdown",
            "source": "### 8. **Lets Examine these Clusters**"
        },
        {
            "metadata": {},
            "cell_type": "markdown",
            "source": "#### Cluster 0"
        },
        {
            "metadata": {},
            "cell_type": "code",
            "source": "hwd_merged.loc[hwd_merged['Cluster Labels'] == 0]",
            "execution_count": 36,
            "outputs": [
                {
                    "output_type": "execute_result",
                    "execution_count": 36,
                    "data": {
                        "text/plain": "                Neighborhood   Gym  Cluster Labels   latitude   longitude\n1   Eden Landing, California  0.01               0  37.680181 -121.921498\n2  Hayward Heath, California  0.01               0  37.680181 -121.921498\n3     Mount Eden, California  0.01               0  37.657381 -122.050760\n4   Schafer Park, California  0.01               0  37.635582 -122.104180",
                        "text/html": "<div>\n<style scoped>\n    .dataframe tbody tr th:only-of-type {\n        vertical-align: middle;\n    }\n\n    .dataframe tbody tr th {\n        vertical-align: top;\n    }\n\n    .dataframe thead th {\n        text-align: right;\n    }\n</style>\n<table border=\"1\" class=\"dataframe\">\n  <thead>\n    <tr style=\"text-align: right;\">\n      <th></th>\n      <th>Neighborhood</th>\n      <th>Gym</th>\n      <th>Cluster Labels</th>\n      <th>latitude</th>\n      <th>longitude</th>\n    </tr>\n  </thead>\n  <tbody>\n    <tr>\n      <th>1</th>\n      <td>Eden Landing, California</td>\n      <td>0.01</td>\n      <td>0</td>\n      <td>37.680181</td>\n      <td>-121.921498</td>\n    </tr>\n    <tr>\n      <th>2</th>\n      <td>Hayward Heath, California</td>\n      <td>0.01</td>\n      <td>0</td>\n      <td>37.680181</td>\n      <td>-121.921498</td>\n    </tr>\n    <tr>\n      <th>3</th>\n      <td>Mount Eden, California</td>\n      <td>0.01</td>\n      <td>0</td>\n      <td>37.657381</td>\n      <td>-122.050760</td>\n    </tr>\n    <tr>\n      <th>4</th>\n      <td>Schafer Park, California</td>\n      <td>0.01</td>\n      <td>0</td>\n      <td>37.635582</td>\n      <td>-122.104180</td>\n    </tr>\n  </tbody>\n</table>\n</div>"
                    },
                    "metadata": {}
                }
            ]
        },
        {
            "metadata": {},
            "cell_type": "markdown",
            "source": "#### Cluster 1"
        },
        {
            "metadata": {},
            "cell_type": "code",
            "source": "hwd_merged.loc[hwd_merged['Cluster Labels'] == 1]",
            "execution_count": 37,
            "outputs": [
                {
                    "output_type": "execute_result",
                    "execution_count": 37,
                    "data": {
                        "text/plain": "       Neighborhood   Gym  Cluster Labels   latitude  longitude\n0  Downtown Hayward  0.02               1  37.633732 -122.06101",
                        "text/html": "<div>\n<style scoped>\n    .dataframe tbody tr th:only-of-type {\n        vertical-align: middle;\n    }\n\n    .dataframe tbody tr th {\n        vertical-align: top;\n    }\n\n    .dataframe thead th {\n        text-align: right;\n    }\n</style>\n<table border=\"1\" class=\"dataframe\">\n  <thead>\n    <tr style=\"text-align: right;\">\n      <th></th>\n      <th>Neighborhood</th>\n      <th>Gym</th>\n      <th>Cluster Labels</th>\n      <th>latitude</th>\n      <th>longitude</th>\n    </tr>\n  </thead>\n  <tbody>\n    <tr>\n      <th>0</th>\n      <td>Downtown Hayward</td>\n      <td>0.02</td>\n      <td>1</td>\n      <td>37.633732</td>\n      <td>-122.06101</td>\n    </tr>\n  </tbody>\n</table>\n</div>"
                    },
                    "metadata": {}
                }
            ]
        },
        {
            "metadata": {},
            "cell_type": "markdown",
            "source": "### **Final Observation**"
        },
        {
            "metadata": {},
            "cell_type": "markdown",
            "source": "#### *Answer to the business question: Where would you recommend an investor/developer in the city of Hayward to open a brand new Gym?*"
        },
        {
            "metadata": {},
            "cell_type": "markdown",
            "source": "*After investigating the data regarding all the gyms in the city of Hayward, California. The highest number of gyms are in cluster 0 and smaller number of gyms are in cluster 1. Cluster 1 checks all the boxes which includes: traffic area (more traffic to your business), downtown area (more appeal to your business) & less competition (Gyms). Property investors/developers with unique selling propositions to stand out from the competition can also open a brand-new Gym in neighborhoods in cluster 1 with less competition. Lastly, property developers are advised to avoid neighborhoods in cluster 0 which already have high concentration of gyms and suffering from intense competition. So to answer the business question I would recommend an investor/developer to open a brand new Gym in the city of Hayward in Cluster 1 (Downtown Hayward).*"
        }
    ],
    "metadata": {
        "kernelspec": {
            "name": "python3",
            "display_name": "Python 3.6",
            "language": "python"
        },
        "language_info": {
            "name": "python",
            "version": "3.6.9",
            "mimetype": "text/x-python",
            "codemirror_mode": {
                "name": "ipython",
                "version": 3
            },
            "pygments_lexer": "ipython3",
            "nbconvert_exporter": "python",
            "file_extension": ".py"
        }
    },
    "nbformat": 4,
    "nbformat_minor": 1
}